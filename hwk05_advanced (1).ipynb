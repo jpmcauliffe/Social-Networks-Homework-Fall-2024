{
 "cells": [
  {
   "cell_type": "code",
   "execution_count": 1,
   "id": "4a7b12f4",
   "metadata": {
    "deletable": false,
    "editable": false
   },
   "outputs": [],
   "source": [
    "# Initialize Otter\n",
    "import otter\n",
    "grader = otter.Notebook(\"hwk05_advanced.ipynb\")"
   ]
  },
  {
   "cell_type": "code",
   "execution_count": 2,
   "id": "b759d033",
   "metadata": {},
   "outputs": [
    {
     "name": "stdout",
     "output_type": "stream",
     "text": [
      "Requirement already satisfied: networkx in /srv/conda/lib/python3.11/site-packages (2.6.3)\n",
      "Collecting networkx\n",
      "  Using cached networkx-3.4.1-py3-none-any.whl (1.7 MB)\n",
      "Installing collected packages: networkx\n",
      "  Attempting uninstall: networkx\n",
      "    Found existing installation: networkx 2.6.3\n",
      "    Uninstalling networkx-2.6.3:\n",
      "      Successfully uninstalled networkx-2.6.3\n",
      "Successfully installed networkx-3.4.1\n",
      "Requirement already satisfied: nbconvert in /srv/conda/lib/python3.11/site-packages (7.16.4)\n",
      "Requirement already satisfied: beautifulsoup4 in /srv/conda/lib/python3.11/site-packages (from nbconvert) (4.9.3)\n",
      "Requirement already satisfied: bleach!=5.0.0 in /srv/conda/lib/python3.11/site-packages (from nbconvert) (6.1.0)\n",
      "Requirement already satisfied: defusedxml in /srv/conda/lib/python3.11/site-packages (from nbconvert) (0.7.1)\n",
      "Requirement already satisfied: jinja2>=3.0 in /srv/conda/lib/python3.11/site-packages (from nbconvert) (3.1.4)\n",
      "Requirement already satisfied: jupyter-core>=4.7 in /srv/conda/lib/python3.11/site-packages (from nbconvert) (5.7.2)\n",
      "Requirement already satisfied: jupyterlab-pygments in /srv/conda/lib/python3.11/site-packages (from nbconvert) (0.3.0)\n",
      "Requirement already satisfied: markupsafe>=2.0 in /srv/conda/lib/python3.11/site-packages (from nbconvert) (3.0.1)\n",
      "Requirement already satisfied: mistune<4,>=2.0.3 in /srv/conda/lib/python3.11/site-packages (from nbconvert) (3.0.2)\n",
      "Requirement already satisfied: nbclient>=0.5.0 in /srv/conda/lib/python3.11/site-packages (from nbconvert) (0.10.0)\n",
      "Requirement already satisfied: nbformat>=5.7 in /srv/conda/lib/python3.11/site-packages (from nbconvert) (5.10.4)\n",
      "Requirement already satisfied: packaging in /srv/conda/lib/python3.11/site-packages (from nbconvert) (24.0)\n",
      "Requirement already satisfied: pandocfilters>=1.4.1 in /srv/conda/lib/python3.11/site-packages (from nbconvert) (1.5.0)\n",
      "Requirement already satisfied: pygments>=2.4.1 in /srv/conda/lib/python3.11/site-packages (from nbconvert) (2.18.0)\n",
      "Requirement already satisfied: tinycss2 in /srv/conda/lib/python3.11/site-packages (from nbconvert) (1.3.0)\n",
      "Requirement already satisfied: traitlets>=5.1 in /srv/conda/lib/python3.11/site-packages (from nbconvert) (5.9.0)\n",
      "Requirement already satisfied: six>=1.9.0 in /srv/conda/lib/python3.11/site-packages (from bleach!=5.0.0->nbconvert) (1.16.0)\n",
      "Requirement already satisfied: webencodings in /srv/conda/lib/python3.11/site-packages (from bleach!=5.0.0->nbconvert) (0.5.1)\n",
      "Requirement already satisfied: platformdirs>=2.5 in /srv/conda/lib/python3.11/site-packages (from jupyter-core>=4.7->nbconvert) (4.2.0)\n",
      "Requirement already satisfied: jupyter-client>=6.1.12 in /srv/conda/lib/python3.11/site-packages (from nbclient>=0.5.0->nbconvert) (8.6.3)\n",
      "Requirement already satisfied: fastjsonschema>=2.15 in /srv/conda/lib/python3.11/site-packages (from nbformat>=5.7->nbconvert) (2.20.0)\n",
      "Requirement already satisfied: jsonschema>=2.6 in /srv/conda/lib/python3.11/site-packages (from nbformat>=5.7->nbconvert) (4.23.0)\n",
      "Requirement already satisfied: soupsieve>1.2 in /srv/conda/lib/python3.11/site-packages (from beautifulsoup4->nbconvert) (2.5)\n",
      "Requirement already satisfied: attrs>=22.2.0 in /srv/conda/lib/python3.11/site-packages (from jsonschema>=2.6->nbformat>=5.7->nbconvert) (24.2.0)\n",
      "Requirement already satisfied: jsonschema-specifications>=2023.03.6 in /srv/conda/lib/python3.11/site-packages (from jsonschema>=2.6->nbformat>=5.7->nbconvert) (2024.10.1)\n",
      "Requirement already satisfied: referencing>=0.28.4 in /srv/conda/lib/python3.11/site-packages (from jsonschema>=2.6->nbformat>=5.7->nbconvert) (0.35.1)\n",
      "Requirement already satisfied: rpds-py>=0.7.1 in /srv/conda/lib/python3.11/site-packages (from jsonschema>=2.6->nbformat>=5.7->nbconvert) (0.20.0)\n",
      "Requirement already satisfied: python-dateutil>=2.8.2 in /srv/conda/lib/python3.11/site-packages (from jupyter-client>=6.1.12->nbclient>=0.5.0->nbconvert) (2.9.0)\n",
      "Requirement already satisfied: pyzmq>=23.0 in /srv/conda/lib/python3.11/site-packages (from jupyter-client>=6.1.12->nbclient>=0.5.0->nbconvert) (26.2.0)\n",
      "Requirement already satisfied: tornado>=6.2 in /srv/conda/lib/python3.11/site-packages (from jupyter-client>=6.1.12->nbclient>=0.5.0->nbconvert) (6.4.1)\n"
     ]
    }
   ],
   "source": [
    "!pip install --upgrade networkx\n",
    "!pip install --upgrade nbconvert"
   ]
  },
  {
   "cell_type": "code",
   "execution_count": 3,
   "id": "9521fc5a-06e3-4e84-ba30-171d7dacbf7c",
   "metadata": {
    "scrolled": true
   },
   "outputs": [
    {
     "data": {
      "text/html": [
       "<style>\n",
       "div.question {    \n",
       "    background-color: #33f2f2;\n",
       "    border-color: #dFb5b4;\n",
       "    border-left: 5px solid #dfb5b4;\n",
       "    padding: 0.5em;\n",
       "    }\n",
       "div.response {    \n",
       "    background-color: #fcf2f2;\n",
       "    border-color: #dFb5b4;\n",
       "    border-left: 5px solid #dfb5b4;\n",
       "    padding: 0.5em;\n",
       "    }\n",
       "</style>\n"
      ],
      "text/plain": [
       "<IPython.core.display.HTML object>"
      ]
     },
     "execution_count": 3,
     "metadata": {},
     "output_type": "execute_result"
    }
   ],
   "source": [
    "from IPython.core.display import HTML\n",
    "HTML(\"\"\"\n",
    "<style>\n",
    ".imagesource {\n",
    "    font-size: xx-small;\n",
    "}\n",
    "</style>\n",
    "\"\"\")\n",
    "\n",
    "from datascience import *\n",
    "\n",
    "import matplotlib\n",
    "matplotlib.use('Agg')\n",
    "%matplotlib inline\n",
    "import matplotlib.pyplot as plt\n",
    "import numpy as np\n",
    "plt.style.use('fivethirtyeight')\n",
    "\n",
    "import os\n",
    "import networkx as nx\n",
    "\n",
    "from IPython.core.display import HTML\n",
    "def css_styling():\n",
    "    styles = open(\"custom_style.css\", \"r\").read()\n",
    "    return HTML(styles)\n",
    "css_styling()"
   ]
  },
  {
   "cell_type": "markdown",
   "id": "c8e2babb",
   "metadata": {},
   "source": [
    "## Advanced Complete Network Data"
   ]
  },
  {
   "cell_type": "markdown",
   "id": "bbe204fe",
   "metadata": {},
   "source": [
    "You have had practice working with network data that includes node attributes, and exploring mathematical models for quantifying these networks in Lab 3 and Lab 4. This homework builds on your previous experience to work with complete network data.\n",
    "\n",
    "As you may remember, the Add Health dataset we have been working with stores information about network connections in an edge list. The Add Health dataset also has information about the nodes; it has their grade, their gender, and their race/ethnicity.\n"
   ]
  },
  {
   "cell_type": "markdown",
   "id": "4eda46e8",
   "metadata": {
    "deletable": false,
    "editable": false
   },
   "source": [
    "# Question 1: \n",
    "Load the functions that allow you to read in the Add Health dataset.\n",
    "\n",
    "_Hint: review the code in Lab 3_"
   ]
  },
  {
   "cell_type": "code",
   "execution_count": 4,
   "id": "7d0f39f7",
   "metadata": {
    "tags": []
   },
   "outputs": [],
   "source": [
    "data_path = \"data/\"\n",
    "\n",
    "def read_add_health_edges(network_id, path=data_path):\n",
    "    \"\"\"\n",
    "    network_id : integer from 1 to 84\n",
    "    \n",
    "    read in the Add Health network corresponding to the given id number and\n",
    "    return it as an undirected networkx object\n",
    "    \"\"\"\n",
    "\n",
    "    # this file was downloaded from\n",
    "    # http://moreno.ss.uci.edu/data.html#adhealth\n",
    "    edge_file = os.path.join(path, \"comm\" + str(network_id) + \".dat\")\n",
    "    with open(edge_file, 'r') as f:\n",
    "        edge_lines = f.readlines()\n",
    "        \n",
    "    network = nx.parse_edgelist(edge_lines, nodetype=int, data=[('activity_level', float)])\n",
    "    \n",
    "    # note that we call the to_undirected method to ensure we get an undirected network\n",
    "    return(network.to_undirected())\n",
    "\n",
    "\n",
    "def read_add_health_attributes_oneperrow(network_id, net, path=data_path):\n",
    "    \"\"\"\n",
    "    Read in an Add Health attributes file that has one attribute per row\n",
    "    \"\"\"\n",
    "    att_file = os.path.join(path, \"comm\" + str(network_id) + \"_att.dat\")\n",
    "    with open(att_file, 'r') as f:\n",
    "        att_lines = f.readlines()\n",
    "    \n",
    "    # the first 8 lines are meta-info and not actual data\n",
    "    att_lines = att_lines[8:]\n",
    "    \n",
    "    node_races = {}\n",
    "    node_grades = {}\n",
    "    node_sexes = {}\n",
    "\n",
    "    for cur_id in net.nodes():\n",
    "        \n",
    "        print(\"starting node \", cur_id)\n",
    "        \n",
    "        # the attributes are stored one per line for each node in sequence (race / sex / grade)\n",
    "        # so line 0 is node 1's race, line 2 is node 1's sex, line 3 is node 1's grade, line 4 is node 2's race, etc\n",
    "        start_idx = (cur_id-1) * 3\n",
    "        this_race = str.split(g_att[start_idx])[2]\n",
    "        this_sex = str.split(g_att[start_idx+1])[2]\n",
    "        this_grade = str.split(g_att[start_idx+2])[2]\n",
    "    \n",
    "        node_races[cur_id] = this_race\n",
    "        node_grades[cur_id] = this_grade\n",
    "        node_sexes[cur_id] = this_sex\n",
    "    \n",
    "    nx.set_node_attributes(net, 'race', node_races)\n",
    "    nx.set_node_attributes(net, 'grade', node_grades)\n",
    "    nx.set_node_attributes(net, 'sex', node_sexes)\n",
    "    \n",
    "    return(net)\n",
    "\n",
    "\n",
    "def read_add_health_attributes(network_id, net, path=data_path):\n",
    "    \"\"\"\n",
    "    Read in an Add Health attributes file that has one row per node\n",
    "    \"\"\"\n",
    "    \n",
    "    # open up the attributes datafile\n",
    "    att_file = os.path.join(path, \"comm\" + str(network_id) + \"_att.dat\")\n",
    "    with open(att_file, 'r') as f:\n",
    "        att_lines = f.readlines()\n",
    "        \n",
    "    # the first several lines are meta-info and not actual data;\n",
    "    # the data start once we see \"DATA:\\n\"\n",
    "    header_start = att_lines.index(\"COLUMN LABELS:\\n\") + 1\n",
    "    header_end = att_lines.index(\"DATA:\\n\")\n",
    "    data_start = header_end + 1\n",
    "    \n",
    "    # build up a list that maps column index to column name\n",
    "    col_defs = []\n",
    "    # build up a dict that has the data for each variable\n",
    "    col_data = {}\n",
    "    \n",
    "    for colindex, lineidx in enumerate(range(header_start, header_end)):\n",
    "        # strip off the newline and the starting/ending quotes of the column name\n",
    "        this_name = (str.strip(att_lines[lineidx])[1:-1]).lower()\n",
    "        col_defs.append(this_name)\n",
    "        # initialize the data for this column to empty dict\n",
    "        col_data[this_name] = {}  \n",
    "    \n",
    "    att_lines = att_lines[data_start:]\n",
    "    \n",
    "    # for each row (corresponding to one node's data)\n",
    "    # split the columns up and stick them into the appropriate\n",
    "    # dict, with node id as key and attribute value as value\n",
    "    for cur_id in net.nodes():\n",
    "        #print('starting node ', cur_id)\n",
    "        these_data = str.split(att_lines[cur_id - 1])\n",
    "        \n",
    "        for colidx, dat in enumerate(these_data):\n",
    "            col_data[col_defs[colidx]][cur_id] = dat\n",
    "\n",
    "    # take the data and assign it to the nodes in the graph object\n",
    "    for var in col_defs:\n",
    "        nx.set_node_attributes(net,  col_data[var],var)\n",
    "    \n",
    "    return(net)\n",
    "\n",
    "\n",
    "def read_add_health_network(network_id):\n",
    "    \n",
    "    this_net = read_add_health_edges(network_id)\n",
    "    #this_net = read_add_health_attributes(network_id, this_net)\n",
    "    this_net = read_add_health_attributes(network_id, this_net)\n",
    "    \n",
    "    return(this_net)"
   ]
  },
  {
   "cell_type": "code",
   "execution_count": 5,
   "id": "e98ce9cb",
   "metadata": {
    "deletable": false,
    "editable": false
   },
   "outputs": [
    {
     "data": {
      "text/html": [
       "<p><strong><pre style='display: inline;'>q1</pre></strong> passed! ✨</p>"
      ],
      "text/plain": [
       "q1 results: All test cases passed!"
      ]
     },
     "execution_count": 5,
     "metadata": {},
     "output_type": "execute_result"
    }
   ],
   "source": [
    "grader.check(\"q1\")"
   ]
  },
  {
   "cell_type": "markdown",
   "id": "0a242e3f",
   "metadata": {
    "deletable": false,
    "editable": false
   },
   "source": [
    "# Question 2:\n",
    "\n",
    "Use the read_add_health_network function to load the datasets into memory. Remember to omit networks 1 and 48.\n",
    "\n",
    "_Hint: again, review the code in Lab 3_"
   ]
  },
  {
   "cell_type": "code",
   "execution_count": 6,
   "id": "554b6555",
   "metadata": {
    "tags": []
   },
   "outputs": [],
   "source": [
    "add_health_ids = [x for x in range(2, 85) if x != 48]\n",
    "add_health_networks = [read_add_health_network(x) for x in add_health_ids]"
   ]
  },
  {
   "cell_type": "code",
   "execution_count": 7,
   "id": "b15d9607",
   "metadata": {
    "deletable": false,
    "editable": false
   },
   "outputs": [
    {
     "data": {
      "text/html": [
       "<p><strong><pre style='display: inline;'>q2</pre></strong> passed! 🌈</p>"
      ],
      "text/plain": [
       "q2 results: All test cases passed!"
      ]
     },
     "execution_count": 7,
     "metadata": {},
     "output_type": "execute_result"
    }
   ],
   "source": [
    "grader.check(\"q2\")"
   ]
  },
  {
   "cell_type": "markdown",
   "id": "167db6fa",
   "metadata": {
    "deletable": false,
    "editable": false
   },
   "source": [
    "# Question 3:\n",
    "\n",
    "Fill in the definition of a helper function to calculate the average degree of the given network.\n",
    "\n",
    "_Hint: remember that the average degree is 2 times the number of edges, divided by the number of nodes_"
   ]
  },
  {
   "cell_type": "code",
   "execution_count": 8,
   "id": "a89b023f-7eb4-45f1-a985-66b1339be54c",
   "metadata": {
    "tags": []
   },
   "outputs": [
    {
     "data": {
      "text/plain": [
       "6.647619047619048"
      ]
     },
     "execution_count": 8,
     "metadata": {},
     "output_type": "execute_result"
    }
   ],
   "source": [
    "\n",
    "def average_degree(net):\n",
    "    ## Helper function to calculate the average degree of a network\n",
    "    \n",
    "    ##Parameters\n",
    "    ##----------\n",
    "    ##net : nx.Graph\n",
    "    ##    - The graph to calculate average degree\n",
    "        \n",
    "    ##Return\n",
    "    ##------\n",
    "    ##float\n",
    "    ##    - Average degree of the network\n",
    "    \n",
    "    \n",
    "    return((nx.number_of_edges(net)*2)/nx.number_of_nodes(net))\n",
    "\n",
    "avg_d=average_degree(add_health_networks[0])\n",
    "avg_d"
   ]
  },
  {
   "cell_type": "code",
   "execution_count": 9,
   "id": "c6e86624",
   "metadata": {
    "deletable": false,
    "editable": false
   },
   "outputs": [
    {
     "data": {
      "text/html": [
       "<p><strong><pre style='display: inline;'>q3</pre></strong> passed! 🚀</p>"
      ],
      "text/plain": [
       "q3 results: All test cases passed!"
      ]
     },
     "execution_count": 9,
     "metadata": {},
     "output_type": "execute_result"
    }
   ],
   "source": [
    "grader.check(\"q3\")"
   ]
  },
  {
   "cell_type": "markdown",
   "id": "f64e6050",
   "metadata": {
    "deletable": false,
    "editable": false
   },
   "source": [
    "# Question 4\n",
    "\n",
    "Write a loop that goes through each of the 84 Add Health networks and calculates the clustering coefficient and the number of nodes in the network. *(Please use the average clustering coefficient, implemented by the `average_clustering` function from the networkx package.)*\n",
    "\n",
    "Store the results in a Table called `add_health_clustering` using columns called `num_nodes` and `avg_clustering_coef`.\n"
   ]
  },
  {
   "cell_type": "code",
   "execution_count": 10,
   "id": "9f253d0f",
   "metadata": {
    "tags": []
   },
   "outputs": [
    {
     "data": {
      "text/html": [
       "<table border=\"1\" class=\"dataframe\">\n",
       "    <thead>\n",
       "        <tr>\n",
       "            <th>num_nodes</th> <th>avg_clustering_coef</th>\n",
       "        </tr>\n",
       "    </thead>\n",
       "    <tbody>\n",
       "        <tr>\n",
       "            <td>105      </td> <td>0.327214           </td>\n",
       "        </tr>\n",
       "        <tr>\n",
       "            <td>32       </td> <td>0.430558           </td>\n",
       "        </tr>\n",
       "        <tr>\n",
       "            <td>281      </td> <td>0.221537           </td>\n",
       "        </tr>\n",
       "        <tr>\n",
       "            <td>157      </td> <td>0.294993           </td>\n",
       "        </tr>\n",
       "        <tr>\n",
       "            <td>108      </td> <td>0.327537           </td>\n",
       "        </tr>\n",
       "        <tr>\n",
       "            <td>441      </td> <td>0.218287           </td>\n",
       "        </tr>\n",
       "        <tr>\n",
       "            <td>204      </td> <td>0.272334           </td>\n",
       "        </tr>\n",
       "        <tr>\n",
       "            <td>248      </td> <td>0.313195           </td>\n",
       "        </tr>\n",
       "        <tr>\n",
       "            <td>678      </td> <td>0.23361            </td>\n",
       "        </tr>\n",
       "        <tr>\n",
       "            <td>411      </td> <td>0.195184           </td>\n",
       "        </tr>\n",
       "    </tbody>\n",
       "</table>\n",
       "<p>... (72 rows omitted)</p>"
      ],
      "text/plain": [
       "num_nodes | avg_clustering_coef\n",
       "105       | 0.327214\n",
       "32        | 0.430558\n",
       "281       | 0.221537\n",
       "157       | 0.294993\n",
       "108       | 0.327537\n",
       "441       | 0.218287\n",
       "204       | 0.272334\n",
       "248       | 0.313195\n",
       "678       | 0.23361\n",
       "411       | 0.195184\n",
       "... (72 rows omitted)"
      ]
     },
     "execution_count": 10,
     "metadata": {},
     "output_type": "execute_result"
    }
   ],
   "source": [
    "clustering = make_array()\n",
    "num_nodes = make_array()\n",
    "\n",
    "for g in add_health_networks:\n",
    "    clustering = np.append(clustering, nx.average_clustering(g))\n",
    "    num_nodes = np.append(num_nodes, nx.number_of_nodes(g))\n",
    "\n",
    "add_health_clustering = Table().with_columns(['num_nodes', num_nodes,\n",
    "                                              'avg_clustering_coef', clustering])\n",
    "add_health_clustering"
   ]
  },
  {
   "cell_type": "code",
   "execution_count": 11,
   "id": "2312e6a2",
   "metadata": {
    "deletable": false,
    "editable": false
   },
   "outputs": [
    {
     "data": {
      "text/html": [
       "<p><strong><pre style='display: inline;'>q4</pre></strong> passed! 🙌</p>"
      ],
      "text/plain": [
       "q4 results: All test cases passed!"
      ]
     },
     "execution_count": 11,
     "metadata": {},
     "output_type": "execute_result"
    }
   ],
   "source": [
    "grader.check(\"q4\")"
   ]
  },
  {
   "cell_type": "markdown",
   "id": "bea54af9",
   "metadata": {},
   "source": [
    "##  Average path length of biggest component"
   ]
  },
  {
   "cell_type": "markdown",
   "id": "bce0600d",
   "metadata": {},
   "source": [
    "Remember that it really only makes sense to think about the average path length between two nodes that are in the same component. (Nodes in different components have no path between them.) Since some of the Add Health networks have more than one component, we'll start by picking out only the largest component in each network."
   ]
  },
  {
   "cell_type": "code",
   "execution_count": 12,
   "id": "3da9eebe",
   "metadata": {},
   "outputs": [],
   "source": [
    "# This might take a few seconds...\n",
    "def get_biggest_component(network):\n",
    "    \"\"\" Returns the largest connected component of a network\n",
    "    \n",
    "    Parameters\n",
    "    ----------\n",
    "    network : nx.Graph\n",
    "        - A single networkx graph\n",
    "    Returns\n",
    "    -------\n",
    "    nx.Graph\n",
    "        - The largest component of the input network\n",
    "    \"\"\"\n",
    "    components = [network.subgraph(c) for c in nx.connected_components(network)]\n",
    "    biggest = max(components, key=len)\n",
    "    return(biggest)\n",
    "\n",
    "add_health_biggest_components = [get_biggest_component(g) for g in add_health_networks]"
   ]
  },
  {
   "cell_type": "markdown",
   "id": "9eb6d28f",
   "metadata": {
    "deletable": false,
    "editable": false
   },
   "source": [
    "# Question 5:\n",
    "\n",
    "The following code includes a loop that goes through the object created above (the largest component of each of the 84 Add Health networks) and calculates the average shortest path length and the number of nodes in the network. **This may take 3-5 minutes to run.**\n",
    "\n",
    "Store the results in a Table called `add_health_sp` using columns called `num_nodes`, `avg_shortest_path`, and `avg_degree`.\n"
   ]
  },
  {
   "cell_type": "code",
   "execution_count": 13,
   "id": "34600179",
   "metadata": {
    "tags": []
   },
   "outputs": [
    {
     "data": {
      "text/html": [
       "<table border=\"1\" class=\"dataframe\">\n",
       "    <thead>\n",
       "        <tr>\n",
       "            <th>num_nodes</th> <th>avg_shortest_path</th> <th>avg_degree</th>\n",
       "        </tr>\n",
       "    </thead>\n",
       "    <tbody>\n",
       "        <tr>\n",
       "            <td>103      </td> <td>3.19417          </td> <td>6.75728   </td>\n",
       "        </tr>\n",
       "        <tr>\n",
       "            <td>32       </td> <td>2.38508          </td> <td>5.6875    </td>\n",
       "        </tr>\n",
       "        <tr>\n",
       "            <td>281      </td> <td>3.36398          </td> <td>8.08541   </td>\n",
       "        </tr>\n",
       "        <tr>\n",
       "            <td>157      </td> <td>2.84828          </td> <td>9.29936   </td>\n",
       "        </tr>\n",
       "        <tr>\n",
       "            <td>108      </td> <td>3.02648          </td> <td>7         </td>\n",
       "        </tr>\n",
       "        <tr>\n",
       "            <td>437      </td> <td>3.86129          </td> <td>7.77117   </td>\n",
       "        </tr>\n",
       "        <tr>\n",
       "            <td>204      </td> <td>3.36965          </td> <td>7.93137   </td>\n",
       "        </tr>\n",
       "        <tr>\n",
       "            <td>248      </td> <td>3.43268          </td> <td>8.09677   </td>\n",
       "        </tr>\n",
       "        <tr>\n",
       "            <td>678      </td> <td>4.13973          </td> <td>8.24484   </td>\n",
       "        </tr>\n",
       "        <tr>\n",
       "            <td>411      </td> <td>3.86842          </td> <td>7.73723   </td>\n",
       "        </tr>\n",
       "    </tbody>\n",
       "</table>\n",
       "<p>... (72 rows omitted)</p>"
      ],
      "text/plain": [
       "num_nodes | avg_shortest_path | avg_degree\n",
       "103       | 3.19417           | 6.75728\n",
       "32        | 2.38508           | 5.6875\n",
       "281       | 3.36398           | 8.08541\n",
       "157       | 2.84828           | 9.29936\n",
       "108       | 3.02648           | 7\n",
       "437       | 3.86129           | 7.77117\n",
       "204       | 3.36965           | 7.93137\n",
       "248       | 3.43268           | 8.09677\n",
       "678       | 4.13973           | 8.24484\n",
       "411       | 3.86842           | 7.73723\n",
       "... (72 rows omitted)"
      ]
     },
     "execution_count": 13,
     "metadata": {},
     "output_type": "execute_result"
    }
   ],
   "source": [
    "## NOTE: your code might take a little while\n",
    "##       (~3-5 minutes) to run\n",
    "\n",
    "avg_shortest_path = make_array()\n",
    "num_nodes = make_array()\n",
    "avg_degree = make_array()\n",
    "\n",
    "for c in add_health_biggest_components:\n",
    "    avg_shortest_path = np.append(avg_shortest_path, nx.average_shortest_path_length(c))\n",
    "    num_nodes = np.append(num_nodes, c.number_of_nodes())\n",
    "    avg_degree = np.append(avg_degree, average_degree(c))\n",
    "\n",
    "\n",
    "add_health_sp = Table().with_columns('num_nodes', num_nodes, 'avg_shortest_path', avg_shortest_path, 'avg_degree', avg_degree)\n",
    "add_health_sp"
   ]
  },
  {
   "cell_type": "code",
   "execution_count": 14,
   "id": "fcd31476",
   "metadata": {
    "deletable": false,
    "editable": false
   },
   "outputs": [
    {
     "data": {
      "text/html": [
       "<p><strong><pre style='display: inline;'>q5</pre></strong> passed! 🙌</p>"
      ],
      "text/plain": [
       "q5 results: All test cases passed!"
      ]
     },
     "execution_count": 14,
     "metadata": {},
     "output_type": "execute_result"
    }
   ],
   "source": [
    "grader.check(\"q5\")"
   ]
  },
  {
   "cell_type": "markdown",
   "id": "d064251a",
   "metadata": {},
   "source": [
    "\n",
    "### Exploring network attributes"
   ]
  },
  {
   "cell_type": "markdown",
   "id": "35565b77",
   "metadata": {},
   "source": [
    "We'll start by looking at the fraction of students in one school that is male."
   ]
  },
  {
   "cell_type": "markdown",
   "id": "95211039",
   "metadata": {},
   "source": [
    "Looking at the [dataset information](http://moreno.ss.uci.edu/data.html#adhealth), you can see that the Add Health sex variable has the values 1=male, 2=female, and 0=unreported."
   ]
  },
  {
   "cell_type": "markdown",
   "id": "0ab87dc7",
   "metadata": {},
   "source": [
    "**Practice** Use the `get_node_attributes` function to grab the sexes of the students in the first school by filling in the code below."
   ]
  },
  {
   "cell_type": "code",
   "execution_count": 15,
   "id": "ecbb3605",
   "metadata": {},
   "outputs": [
    {
     "data": {
      "text/plain": [
       "{1: '2',\n",
       " 95: '2',\n",
       " 108: '2',\n",
       " 2: '1',\n",
       " 30: '1',\n",
       " 85: '1',\n",
       " 3: '2',\n",
       " 10: '1',\n",
       " 21: '2',\n",
       " 75: '2',\n",
       " 81: '2',\n",
       " 82: '2',\n",
       " 6: '1',\n",
       " 15: '2',\n",
       " 36: '1',\n",
       " 37: '1',\n",
       " 59: '1',\n",
       " 84: '2',\n",
       " 7: '2',\n",
       " 11: '2',\n",
       " 29: '1',\n",
       " 33: '1',\n",
       " 48: '2',\n",
       " 72: '2',\n",
       " 79: '2',\n",
       " 96: '1',\n",
       " 8: '1',\n",
       " 26: '2',\n",
       " 60: '1',\n",
       " 74: '1',\n",
       " 97: '1',\n",
       " 103: '2',\n",
       " 9: '1',\n",
       " 34: '1',\n",
       " 41: '1',\n",
       " 12: '1',\n",
       " 24: '1',\n",
       " 28: '2',\n",
       " 78: '1',\n",
       " 98: '2',\n",
       " 13: '1',\n",
       " 31: '2',\n",
       " 35: '1',\n",
       " 67: '2',\n",
       " 68: '1',\n",
       " 100: '1',\n",
       " 104: '1',\n",
       " 109: '2',\n",
       " 14: '1',\n",
       " 18: '2',\n",
       " 71: '2',\n",
       " 105: '2',\n",
       " 107: '1',\n",
       " 17: '1',\n",
       " 19: '1',\n",
       " 66: '1',\n",
       " 101: '2',\n",
       " 106: '1',\n",
       " 20: '1',\n",
       " 57: '1',\n",
       " 22: '1',\n",
       " 49: '1',\n",
       " 86: '1',\n",
       " 44: '1',\n",
       " 51: '2',\n",
       " 76: '2',\n",
       " 25: '2',\n",
       " 45: '2',\n",
       " 27: '1',\n",
       " 61: '1',\n",
       " 42: '1',\n",
       " 91: '1',\n",
       " 58: '2',\n",
       " 32: '1',\n",
       " 55: '2',\n",
       " 89: '1',\n",
       " 83: '1',\n",
       " 5: '1',\n",
       " 64: '1',\n",
       " 63: '1',\n",
       " 39: '2',\n",
       " 90: '2',\n",
       " 102: '2',\n",
       " 40: '2',\n",
       " 99: '1',\n",
       " 46: '1',\n",
       " 4: '1',\n",
       " 47: '1',\n",
       " 88: '2',\n",
       " 87: '1',\n",
       " 50: '1',\n",
       " 52: '2',\n",
       " 77: '2',\n",
       " 54: '1',\n",
       " 62: '1',\n",
       " 56: '1',\n",
       " 16: '1',\n",
       " 65: '2',\n",
       " 73: '2',\n",
       " 70: '1',\n",
       " 92: '1',\n",
       " 23: '1',\n",
       " 43: '1',\n",
       " 80: '1',\n",
       " 53: '2'}"
      ]
     },
     "execution_count": 15,
     "metadata": {},
     "output_type": "execute_result"
    }
   ],
   "source": [
    "net = add_health_networks[0]\n",
    "sexes = nx.get_node_attributes(net, 'sex')\n",
    "sexes"
   ]
  },
  {
   "cell_type": "markdown",
   "id": "b31e791b",
   "metadata": {
    "deletable": false,
    "editable": false
   },
   "source": [
    "# Question 6:\n",
    "\n",
    "Write another loop that calculates the assortativity coefficient for sex in each community. Store your results in an array called `add_health_r`."
   ]
  },
  {
   "cell_type": "code",
   "execution_count": 16,
   "id": "0a8afe3c",
   "metadata": {
    "tags": []
   },
   "outputs": [
    {
     "data": {
      "text/plain": [
       "array([ 0.14207465,  0.09632572,  0.05316426,  0.03781604,  0.09492771,\n",
       "        0.15066857,  0.08683557,  0.10945906,  0.16117832,  0.10985689,\n",
       "        0.06401593,  0.17960147,  0.07686842,  0.14533151,  0.07817275,\n",
       "        0.08788648,  0.05508658,  0.08292628,  0.13782239,  0.16076421,\n",
       "        0.18349129,  0.08789731,  0.12913338,  0.12408234,  0.14120606,\n",
       "       -0.00237922,  0.13783791,  0.13717341,  0.15202205,  0.30815379,\n",
       "        0.1406675 ,  0.13768224,  0.07269015,  0.1439017 ,  0.09950581,\n",
       "        0.11881835,  0.13886652,  0.1056683 ,  0.10287037,  0.09577148,\n",
       "        0.08751284,  0.11453051,  0.11292649,  0.09841272,  0.0833842 ,\n",
       "        0.09719308,  0.15611561,  0.10838692,  0.16687752,  0.09892444,\n",
       "        0.14685605,  0.1667231 ,  0.27855351,  0.20528251,  0.1144674 ,\n",
       "        0.15651848,  0.16315856,  0.12861718,  0.22189027,  0.26624663,\n",
       "        0.13862468,  0.12229252,  0.10872317,  0.10800383,  0.2562249 ,\n",
       "        0.14127244,  0.09238042, -0.01217532,  0.14761905,  0.12067597,\n",
       "        0.10680126,  0.21808373,  0.09692226, -0.0037926 ,  0.0376502 ,\n",
       "        0.28334687,  0.11735195,  0.21115416,  0.1155822 ,  0.0731042 ,\n",
       "        0.15600645,  0.25812025])"
      ]
     },
     "execution_count": 16,
     "metadata": {},
     "output_type": "execute_result"
    }
   ],
   "source": [
    "add_health_r = make_array()\n",
    "\n",
    "for net in add_health_networks:\n",
    "    net_r = nx.attribute_assortativity_coefficient(net, 'sex')\n",
    "    add_health_r = np.append(add_health_r, net_r)\n",
    "    \n",
    "add_health_r"
   ]
  },
  {
   "cell_type": "code",
   "execution_count": 17,
   "id": "d0fdd306",
   "metadata": {
    "deletable": false,
    "editable": false
   },
   "outputs": [
    {
     "data": {
      "text/html": [
       "<p><strong><pre style='display: inline;'>q6</pre></strong> passed! 🌈</p>"
      ],
      "text/plain": [
       "q6 results: All test cases passed!"
      ]
     },
     "execution_count": 17,
     "metadata": {},
     "output_type": "execute_result"
    }
   ],
   "source": [
    "grader.check(\"q6\")"
   ]
  },
  {
   "cell_type": "markdown",
   "id": "2bea503a",
   "metadata": {
    "deletable": false,
    "editable": false
   },
   "source": [
    "# Question 7:\n",
    "\n",
    "Now let's take a deeper dive, focusin on a specific Add Health network:"
   ]
  },
  {
   "cell_type": "code",
   "execution_count": 18,
   "id": "17b4ddc7",
   "metadata": {
    "deletable": false,
    "editable": false
   },
   "outputs": [],
   "source": [
    "first_add_health = add_health_networks[0]"
   ]
  },
  {
   "cell_type": "markdown",
   "id": "9fb0bd6e",
   "metadata": {
    "deletable": false,
    "editable": false
   },
   "source": [
    "\n",
    "Calculate the assortativity coefficient for sex in `first_add_health`."
   ]
  },
  {
   "cell_type": "code",
   "execution_count": 19,
   "id": "6b53608a",
   "metadata": {
    "tags": []
   },
   "outputs": [
    {
     "data": {
      "text/plain": [
       "0.1420746545679521"
      ]
     },
     "execution_count": 19,
     "metadata": {},
     "output_type": "execute_result"
    }
   ],
   "source": [
    "q7 = nx.attribute_assortativity_coefficient(first_add_health, 'sex')\n",
    "q7"
   ]
  },
  {
   "cell_type": "code",
   "execution_count": 20,
   "id": "c72ed18c",
   "metadata": {
    "deletable": false,
    "editable": false
   },
   "outputs": [
    {
     "data": {
      "text/html": [
       "<p><strong><pre style='display: inline;'>q7</pre></strong> passed! 🌈</p>"
      ],
      "text/plain": [
       "q7 results: All test cases passed!"
      ]
     },
     "execution_count": 20,
     "metadata": {},
     "output_type": "execute_result"
    }
   ],
   "source": [
    "grader.check(\"q7\")"
   ]
  },
  {
   "cell_type": "markdown",
   "id": "e4695b46",
   "metadata": {},
   "source": [
    "\n",
    "## Null Models and Homophily"
   ]
  },
  {
   "cell_type": "markdown",
   "id": "b04ea5e2",
   "metadata": {},
   "source": [
    "We're interested in understanding whether or not there is homophily according to sex in this specific network. The assortativity coefficient is positive, which suggests that there is evidence in favor of homophily. However, we're in a similar situation to the example we saw in lecture: it seems possible that, actually, there is no homophily by sex in this network; rather, the network is assembled as the result of a random process and, just by chance, we happened to get a network that had a positive assortativity coefficient.\n",
    "\n",
    "To assess how likely this possibility is, we will set up a *null model* and to compare what we see in the real world to what we would see if the null model were true. Remember that a null model describes the world in the absence of the phenomenon we are interested in; here, it describes a world in which networks are formed without any homophily by sex. The first_add_health network would be the observed network."
   ]
  },
  {
   "cell_type": "markdown",
   "id": "a8e3502a",
   "metadata": {},
   "source": [
    "For this null model, we will assume that the network structure is fixed, but that the gender of each node is randomly assigned. (Another way of saying this is that we *condition on* the observed network structure.)\n",
    "\n",
    "We'd like to know what the distribution of assortativity coefficients would look like under this null model. Then we can see how likely (or unlikely) the observed assortativity coefficient would be if the null model were true."
   ]
  },
  {
   "cell_type": "code",
   "execution_count": 21,
   "id": "1fe89f67",
   "metadata": {},
   "outputs": [],
   "source": [
    "import random\n",
    "\n",
    "def shuffle_attribute(net, att): # the two inputs are: the network, and the attribute we work with\n",
    "    att_dict = nx.get_node_attributes(net, att) # get the dictionary of the network\n",
    "    \n",
    "    # we want a new copy of the network (we don't want to clobber the original one)\n",
    "    newnet = net.copy()\n",
    "    \n",
    "    # create a dictionary mapping node id to shuffled attribute values\n",
    "    node_ids = att_dict.keys()\n",
    "    att_vals = list(att_dict.values())\n",
    "    random.shuffle(att_vals)\n",
    "    \n",
    "    new_att = dict(zip(node_ids, att_vals)) # create the new dictionary\n",
    "    \n",
    "    # assign the newly shuffled attribute values\n",
    "    nx.set_node_attributes(newnet, name=att, values=new_att)\n",
    "    \n",
    "    return(newnet)"
   ]
  },
  {
   "cell_type": "markdown",
   "id": "7ef4e202",
   "metadata": {},
   "source": [
    "If you run the following cell a few times, you should see that the sex value is getting shuffled"
   ]
  },
  {
   "cell_type": "code",
   "execution_count": 22,
   "id": "eeff6573",
   "metadata": {},
   "outputs": [
    {
     "data": {
      "text/plain": [
       "'2'"
      ]
     },
     "execution_count": 22,
     "metadata": {},
     "output_type": "execute_result"
    }
   ],
   "source": [
    "test = shuffle_attribute(first_add_health, 'sex')\n",
    "test.nodes[1]['sex']"
   ]
  },
  {
   "cell_type": "markdown",
   "id": "9ea25bae",
   "metadata": {
    "deletable": false,
    "editable": false
   },
   "source": [
    "# Question 8:\n",
    "\n",
    "Fill in the code below to reshuffle sex in the `first_add_health` network 1000 times. Record the assortativity coefficient for each reshuffled network."
   ]
  },
  {
   "cell_type": "code",
   "execution_count": 23,
   "id": "05930cd0",
   "metadata": {
    "tags": []
   },
   "outputs": [],
   "source": [
    "# Hint: use the correct index\n",
    "first_add_health = add_health_networks[0]\n",
    "\n",
    "null_network_r = make_array()\n",
    "\n",
    "for _ in range(1000):\n",
    "    # shuffle the sex for the current network\n",
    "    cur_net = shuffle_attribute(first_add_health, 'sex')\n",
    "    # record the coefficient of the shuffled current network by appending it to the array\n",
    "    null_network_r = np.append(null_network_r, nx.attribute_assortativity_coefficient(cur_net, 'sex'))"
   ]
  },
  {
   "cell_type": "code",
   "execution_count": 24,
   "id": "8320986f",
   "metadata": {
    "deletable": false,
    "editable": false
   },
   "outputs": [
    {
     "data": {
      "text/html": [
       "<p><strong><pre style='display: inline;'>q8</pre></strong> passed! ✨</p>"
      ],
      "text/plain": [
       "q8 results: All test cases passed!"
      ]
     },
     "execution_count": 24,
     "metadata": {},
     "output_type": "execute_result"
    }
   ],
   "source": [
    "grader.check(\"q8\")"
   ]
  },
  {
   "cell_type": "markdown",
   "id": "d16b80c8",
   "metadata": {},
   "source": [
    "<!-- END QUESTION -->\n",
    "\n",
    "Let's make a histogram to be able to visualize the 1000 iterations."
   ]
  },
  {
   "cell_type": "code",
   "execution_count": 25,
   "id": "967df331",
   "metadata": {},
   "outputs": [
    {
     "data": {
      "image/png": "[encoded data removed]",
      "text/plain": [
       "<Figure size 600x400 with 1 Axes>"
      ]
     },
     "metadata": {},
     "output_type": "display_data"
    }
   ],
   "source": [
    "Table().with_column('null_network_r', null_network_r).hist()"
   ]
  },
  {
   "cell_type": "markdown",
   "id": "b9a52648",
   "metadata": {
    "deletable": false,
    "editable": false
   },
   "source": [
    "# Question 9:\n",
    "\n",
    "Where is the center of the distribution for our null model?"
   ]
  },
  {
   "cell_type": "markdown",
   "id": "f2621f58",
   "metadata": {
    "deletable": false,
    "editable": false
   },
   "source": [
    "_The center of the distribution of the null model appears to be right around the 0.00 mark._"
   ]
  },
  {
   "cell_type": "markdown",
   "id": "08fad204",
   "metadata": {
    "deletable": false,
    "editable": false
   },
   "source": [
    "# Question 10: \n",
    "\n",
    "Now calculate the assortativity coefficient for the observed network (the first Add Health network) that you based the random networks on. Call this `observed_r`."
   ]
  },
  {
   "cell_type": "code",
   "execution_count": 26,
   "id": "3eba6213",
   "metadata": {
    "tags": []
   },
   "outputs": [
    {
     "data": {
      "text/plain": [
       "0.1420746545679521"
      ]
     },
     "execution_count": 26,
     "metadata": {},
     "output_type": "execute_result"
    }
   ],
   "source": [
    "observed_r = nx.attribute_assortativity_coefficient(first_add_health, \"sex\")\n",
    "observed_r"
   ]
  },
  {
   "cell_type": "code",
   "execution_count": 27,
   "id": "e5944c7a",
   "metadata": {
    "deletable": false,
    "editable": false
   },
   "outputs": [
    {
     "data": {
      "text/html": [
       "<p><strong><pre style='display: inline;'>q10</pre></strong> passed! 🙌</p>"
      ],
      "text/plain": [
       "q10 results: All test cases passed!"
      ]
     },
     "execution_count": 27,
     "metadata": {},
     "output_type": "execute_result"
    }
   ],
   "source": [
    "grader.check(\"q10\")"
   ]
  },
  {
   "cell_type": "markdown",
   "id": "add62d8f",
   "metadata": {
    "deletable": false,
    "editable": false
   },
   "source": [
    "# Question 11:\n",
    "\n",
    "Where in the null distribution does the observed value fall? What does this suggest about how likely the observed value is to have been generated from the null model?"
   ]
  },
  {
   "cell_type": "markdown",
   "id": "fb759e99-b565-4566-ae29-21964feabcc6",
   "metadata": {},
   "source": [
    "_This observed value falls in the right tail of the null distribution, near the maximum values observed from 1000 simulations. This suggests that, although possible, it is unlikely the observed value would be generated from the null model._"
   ]
  },
  {
   "cell_type": "markdown",
   "id": "367078e7",
   "metadata": {
    "deletable": false,
    "editable": false
   },
   "source": [
    "---\n",
    "\n",
    "To double-check your work, the cell below will rerun all of the autograder tests."
   ]
  },
  {
   "cell_type": "code",
   "execution_count": 28,
   "id": "bb3cc6c5",
   "metadata": {
    "deletable": false,
    "editable": false
   },
   "outputs": [
    {
     "data": {
      "text/plain": [
       "q1 results: All test cases passed!\n",
       "\n",
       "q10 results: All test cases passed!\n",
       "\n",
       "q2 results: All test cases passed!\n",
       "\n",
       "q3 results: All test cases passed!\n",
       "\n",
       "q4 results: All test cases passed!\n",
       "\n",
       "q5 results: All test cases passed!\n",
       "\n",
       "q6 results: All test cases passed!\n",
       "\n",
       "q7 results: All test cases passed!\n",
       "\n",
       "q8 results: All test cases passed!"
      ]
     },
     "execution_count": 28,
     "metadata": {},
     "output_type": "execute_result"
    }
   ],
   "source": [
    "grader.check_all()"
   ]
  },
  {
   "cell_type": "markdown",
   "id": "d85154f8",
   "metadata": {
    "deletable": false,
    "editable": false
   },
   "source": [
    "## Submission\n",
    "\n",
    "Make sure you have run all cells in your notebook in order before running the cell below, so that all images/graphs appear in the output. The cell below will generate a zip file for you to submit. **Please save before exporting!**\n",
    "\n",
    "Please upload the .zip file to Gradescope."
   ]
  },
  {
   "cell_type": "markdown",
   "id": "83bab19b",
   "metadata": {},
   "source": [
    " "
   ]
  },
  {
   "cell_type": "code",
   "execution_count": 29,
   "id": "b7775d91",
   "metadata": {
    "deletable": false,
    "editable": false
   },
   "outputs": [
    {
     "ename": "AttributeError",
     "evalue": "module 'nbconvert' has no attribute 'pdf'",
     "output_type": "error",
     "traceback": [
      "\u001b[0;31m---------------------------------------------------------------------------\u001b[0m",
      "\u001b[0;31mLatexFailed\u001b[0m                               Traceback (most recent call last)",
      "File \u001b[0;32m/srv/conda/lib/python3.11/site-packages/otter/export/exporters/via_latex.py:69\u001b[0m, in \u001b[0;36mPDFViaLatexExporter.convert_notebook\u001b[0;34m(cls, nb_path, dest, xecjk, no_xecjk, **kwargs)\u001b[0m\n\u001b[1;32m     67\u001b[0m         output_file\u001b[38;5;241m.\u001b[39mwrite(latex_output[\u001b[38;5;241m0\u001b[39m])\n\u001b[0;32m---> 69\u001b[0m pdf_output \u001b[38;5;241m=\u001b[39m \u001b[43mnbconvert\u001b[49m\u001b[38;5;241;43m.\u001b[39;49m\u001b[43mexport\u001b[49m\u001b[43m(\u001b[49m\u001b[43mpdf_exporter\u001b[49m\u001b[43m,\u001b[49m\u001b[43m \u001b[49m\u001b[43mnb\u001b[49m\u001b[43m)\u001b[49m\n\u001b[1;32m     70\u001b[0m \u001b[38;5;28;01mwith\u001b[39;00m \u001b[38;5;28mopen\u001b[39m(dest, \u001b[38;5;124m\"\u001b[39m\u001b[38;5;124mwb\u001b[39m\u001b[38;5;124m\"\u001b[39m) \u001b[38;5;28;01mas\u001b[39;00m output_file:\n",
      "File \u001b[0;32m/srv/conda/lib/python3.11/site-packages/nbconvert/exporters/base.py:86\u001b[0m, in \u001b[0;36mexport\u001b[0;34m(exporter, nb, **kw)\u001b[0m\n\u001b[1;32m     85\u001b[0m \u001b[38;5;28;01mif\u001b[39;00m \u001b[38;5;28misinstance\u001b[39m(nb, NotebookNode):\n\u001b[0;32m---> 86\u001b[0m     output, resources \u001b[38;5;241m=\u001b[39m \u001b[43mexporter_instance\u001b[49m\u001b[38;5;241;43m.\u001b[39;49m\u001b[43mfrom_notebook_node\u001b[49m\u001b[43m(\u001b[49m\u001b[43mnb\u001b[49m\u001b[43m,\u001b[49m\u001b[43m \u001b[49m\u001b[43mresources\u001b[49m\u001b[43m)\u001b[49m\n\u001b[1;32m     87\u001b[0m \u001b[38;5;28;01melif\u001b[39;00m \u001b[38;5;28misinstance\u001b[39m(nb, (\u001b[38;5;28mstr\u001b[39m,)):\n",
      "File \u001b[0;32m/srv/conda/lib/python3.11/site-packages/nbconvert/exporters/pdf.py:203\u001b[0m, in \u001b[0;36mPDFExporter.from_notebook_node\u001b[0;34m(self, nb, resources, **kw)\u001b[0m\n\u001b[1;32m    202\u001b[0m \u001b[38;5;28;01mif\u001b[39;00m \u001b[38;5;129;01mnot\u001b[39;00m os\u001b[38;5;241m.\u001b[39mpath\u001b[38;5;241m.\u001b[39misfile(pdf_file):\n\u001b[0;32m--> 203\u001b[0m     \u001b[38;5;28;01mraise\u001b[39;00m LatexFailed(\u001b[38;5;124m\"\u001b[39m\u001b[38;5;130;01m\\n\u001b[39;00m\u001b[38;5;124m\"\u001b[39m\u001b[38;5;241m.\u001b[39mjoin(\u001b[38;5;28mself\u001b[39m\u001b[38;5;241m.\u001b[39m_captured_output))\n\u001b[1;32m    204\u001b[0m \u001b[38;5;28mself\u001b[39m\u001b[38;5;241m.\u001b[39mlog\u001b[38;5;241m.\u001b[39minfo(\u001b[38;5;124m\"\u001b[39m\u001b[38;5;124mPDF successfully created\u001b[39m\u001b[38;5;124m\"\u001b[39m)\n",
      "\u001b[0;31mLatexFailed\u001b[0m: PDF creating failed, captured latex output:\nThis is BibTeX, Version 0.99d (TeX Live 2022/dev/Debian)\nThe top-level auxiliary file: notebook.aux\nI found no \\citation commands---while reading file notebook.aux\nI found no \\bibdata command---while reading file notebook.aux\nI found no \\bibstyle command---while reading file notebook.aux\n(There were 3 error messages)\n",
      "\nDuring handling of the above exception, another exception occurred:\n",
      "\u001b[0;31mAttributeError\u001b[0m                            Traceback (most recent call last)",
      "Cell \u001b[0;32mIn[29], line 2\u001b[0m\n\u001b[1;32m      1\u001b[0m \u001b[38;5;66;03m# Save your notebook first, then run this cell to export your submission.\u001b[39;00m\n\u001b[0;32m----> 2\u001b[0m \u001b[43mgrader\u001b[49m\u001b[38;5;241;43m.\u001b[39;49m\u001b[43mexport\u001b[49m\u001b[43m(\u001b[49m\u001b[43mrun_tests\u001b[49m\u001b[38;5;241;43m=\u001b[39;49m\u001b[38;5;28;43;01mTrue\u001b[39;49;00m\u001b[43m)\u001b[49m\n",
      "File \u001b[0;32m/srv/conda/lib/python3.11/site-packages/otter/check/utils.py:157\u001b[0m, in \u001b[0;36mgrading_mode_disabled\u001b[0;34m(wrapped, self, args, kwargs)\u001b[0m\n\u001b[1;32m    155\u001b[0m \u001b[38;5;28;01mif\u001b[39;00m \u001b[38;5;28mtype\u001b[39m(\u001b[38;5;28mself\u001b[39m)\u001b[38;5;241m.\u001b[39m_grading_mode:\n\u001b[1;32m    156\u001b[0m     \u001b[38;5;28;01mreturn\u001b[39;00m\n\u001b[0;32m--> 157\u001b[0m \u001b[38;5;28;01mreturn\u001b[39;00m \u001b[43mwrapped\u001b[49m\u001b[43m(\u001b[49m\u001b[38;5;241;43m*\u001b[39;49m\u001b[43margs\u001b[49m\u001b[43m,\u001b[49m\u001b[43m \u001b[49m\u001b[38;5;241;43m*\u001b[39;49m\u001b[38;5;241;43m*\u001b[39;49m\u001b[43mkwargs\u001b[49m\u001b[43m)\u001b[49m\n",
      "File \u001b[0;32m/srv/conda/lib/python3.11/site-packages/otter/check/utils.py:144\u001b[0m, in \u001b[0;36mincompatible_with.<locals>.incompatible\u001b[0;34m(wrapped, self, args, kwargs)\u001b[0m\n\u001b[1;32m    142\u001b[0m     \u001b[38;5;28;01melse\u001b[39;00m:\n\u001b[1;32m    143\u001b[0m         \u001b[38;5;28;01mreturn\u001b[39;00m\n\u001b[0;32m--> 144\u001b[0m \u001b[38;5;28;01mreturn\u001b[39;00m \u001b[43mwrapped\u001b[49m\u001b[43m(\u001b[49m\u001b[38;5;241;43m*\u001b[39;49m\u001b[43margs\u001b[49m\u001b[43m,\u001b[49m\u001b[43m \u001b[49m\u001b[38;5;241;43m*\u001b[39;49m\u001b[38;5;241;43m*\u001b[39;49m\u001b[43mkwargs\u001b[49m\u001b[43m)\u001b[49m\n",
      "File \u001b[0;32m/srv/conda/lib/python3.11/site-packages/otter/check/utils.py:194\u001b[0m, in \u001b[0;36mlogs_event.<locals>.event_logger\u001b[0;34m(wrapped, self, args, kwargs)\u001b[0m\n\u001b[1;32m    192\u001b[0m \u001b[38;5;28;01mexcept\u001b[39;00m \u001b[38;5;167;01mException\u001b[39;00m \u001b[38;5;28;01mas\u001b[39;00m e:\n\u001b[1;32m    193\u001b[0m     \u001b[38;5;28mself\u001b[39m\u001b[38;5;241m.\u001b[39m_log_event(event_type, success\u001b[38;5;241m=\u001b[39m\u001b[38;5;28;01mFalse\u001b[39;00m, error\u001b[38;5;241m=\u001b[39me)\n\u001b[0;32m--> 194\u001b[0m     \u001b[38;5;28;01mraise\u001b[39;00m e\n\u001b[1;32m    196\u001b[0m \u001b[38;5;28;01melse\u001b[39;00m:\n\u001b[1;32m    197\u001b[0m     \u001b[38;5;28mself\u001b[39m\u001b[38;5;241m.\u001b[39m_log_event(event_type, results\u001b[38;5;241m=\u001b[39mresults, question\u001b[38;5;241m=\u001b[39mquestion, shelve_env\u001b[38;5;241m=\u001b[39mshelve_env)\n",
      "File \u001b[0;32m/srv/conda/lib/python3.11/site-packages/otter/check/utils.py:188\u001b[0m, in \u001b[0;36mlogs_event.<locals>.event_logger\u001b[0;34m(wrapped, self, args, kwargs)\u001b[0m\n\u001b[1;32m    185\u001b[0m     question, results, shelve_env \u001b[38;5;241m=\u001b[39m wrapped(\u001b[38;5;241m*\u001b[39margs, \u001b[38;5;241m*\u001b[39m\u001b[38;5;241m*\u001b[39mkwargs)\n\u001b[1;32m    187\u001b[0m \u001b[38;5;28;01melse\u001b[39;00m:\n\u001b[0;32m--> 188\u001b[0m     results \u001b[38;5;241m=\u001b[39m \u001b[43mwrapped\u001b[49m\u001b[43m(\u001b[49m\u001b[38;5;241;43m*\u001b[39;49m\u001b[43margs\u001b[49m\u001b[43m,\u001b[49m\u001b[43m \u001b[49m\u001b[38;5;241;43m*\u001b[39;49m\u001b[38;5;241;43m*\u001b[39;49m\u001b[43mkwargs\u001b[49m\u001b[43m)\u001b[49m\n\u001b[1;32m    189\u001b[0m     shelve_env \u001b[38;5;241m=\u001b[39m {}\n\u001b[1;32m    190\u001b[0m     question \u001b[38;5;241m=\u001b[39m \u001b[38;5;28;01mNone\u001b[39;00m\n",
      "File \u001b[0;32m/srv/conda/lib/python3.11/site-packages/otter/check/notebook.py:380\u001b[0m, in \u001b[0;36mNotebook.export\u001b[0;34m(self, nb_path, export_path, pdf, filtering, pagebreaks, files, display_link, force_save, run_tests)\u001b[0m\n\u001b[1;32m    377\u001b[0m zf\u001b[38;5;241m.\u001b[39mwrite(nb_path)\n\u001b[1;32m    379\u001b[0m \u001b[38;5;28;01mif\u001b[39;00m pdf:\n\u001b[0;32m--> 380\u001b[0m     pdf_path \u001b[38;5;241m=\u001b[39m \u001b[43mexport_notebook\u001b[49m\u001b[43m(\u001b[49m\u001b[43mnb_path\u001b[49m\u001b[43m,\u001b[49m\u001b[43m \u001b[49m\u001b[43mfiltering\u001b[49m\u001b[38;5;241;43m=\u001b[39;49m\u001b[43mfiltering\u001b[49m\u001b[43m,\u001b[49m\u001b[43m \u001b[49m\u001b[43mpagebreaks\u001b[49m\u001b[38;5;241;43m=\u001b[39;49m\u001b[43mpagebreaks\u001b[49m\u001b[43m)\u001b[49m\n\u001b[1;32m    381\u001b[0m     \u001b[38;5;28;01mif\u001b[39;00m os\u001b[38;5;241m.\u001b[39mpath\u001b[38;5;241m.\u001b[39misfile(pdf_path):\n\u001b[1;32m    382\u001b[0m         zf\u001b[38;5;241m.\u001b[39mwrite(pdf_path)\n",
      "File \u001b[0;32m/srv/conda/lib/python3.11/site-packages/otter/export/__init__.py:42\u001b[0m, in \u001b[0;36mexport_notebook\u001b[0;34m(nb_path, dest, exporter_type, **kwargs)\u001b[0m\n\u001b[1;32m     39\u001b[0m     pdf_name \u001b[38;5;241m=\u001b[39m os\u001b[38;5;241m.\u001b[39mpath\u001b[38;5;241m.\u001b[39msplitext(nb_path)[\u001b[38;5;241m0\u001b[39m] \u001b[38;5;241m+\u001b[39m \u001b[38;5;124m\"\u001b[39m\u001b[38;5;124m.pdf\u001b[39m\u001b[38;5;124m\"\u001b[39m\n\u001b[1;32m     41\u001b[0m Exporter \u001b[38;5;241m=\u001b[39m get_exporter(exporter_type\u001b[38;5;241m=\u001b[39mexporter_type)\n\u001b[0;32m---> 42\u001b[0m \u001b[43mExporter\u001b[49m\u001b[38;5;241;43m.\u001b[39;49m\u001b[43mconvert_notebook\u001b[49m\u001b[43m(\u001b[49m\u001b[43mnb_path\u001b[49m\u001b[43m,\u001b[49m\u001b[43m \u001b[49m\u001b[43mpdf_name\u001b[49m\u001b[43m,\u001b[49m\u001b[43m \u001b[49m\u001b[38;5;241;43m*\u001b[39;49m\u001b[38;5;241;43m*\u001b[39;49m\u001b[43mkwargs\u001b[49m\u001b[43m)\u001b[49m\n\u001b[1;32m     44\u001b[0m \u001b[38;5;28;01mreturn\u001b[39;00m pdf_name\n",
      "File \u001b[0;32m/srv/conda/lib/python3.11/site-packages/otter/export/exporters/via_latex.py:73\u001b[0m, in \u001b[0;36mPDFViaLatexExporter.convert_notebook\u001b[0;34m(cls, nb_path, dest, xecjk, no_xecjk, **kwargs)\u001b[0m\n\u001b[1;32m     70\u001b[0m     \u001b[38;5;28;01mwith\u001b[39;00m \u001b[38;5;28mopen\u001b[39m(dest, \u001b[38;5;124m\"\u001b[39m\u001b[38;5;124mwb\u001b[39m\u001b[38;5;124m\"\u001b[39m) \u001b[38;5;28;01mas\u001b[39;00m output_file:\n\u001b[1;32m     71\u001b[0m         output_file\u001b[38;5;241m.\u001b[39mwrite(pdf_output[\u001b[38;5;241m0\u001b[39m])\n\u001b[0;32m---> 73\u001b[0m \u001b[38;5;28;01mexcept\u001b[39;00m \u001b[43mnbconvert\u001b[49m\u001b[38;5;241;43m.\u001b[39;49m\u001b[43mpdf\u001b[49m\u001b[38;5;241m.\u001b[39mLatexFailed \u001b[38;5;28;01mas\u001b[39;00m error:\n\u001b[1;32m     74\u001b[0m     \u001b[38;5;28;01mif\u001b[39;00m \u001b[38;5;129;01mnot\u001b[39;00m xecjk \u001b[38;5;129;01mand\u001b[39;00m \u001b[38;5;129;01mnot\u001b[39;00m no_xecjk:\n\u001b[1;32m     75\u001b[0m         \u001b[38;5;28mcls\u001b[39m\u001b[38;5;241m.\u001b[39mconvert_notebook(nb_path, dest, xecjk\u001b[38;5;241m=\u001b[39m\u001b[38;5;28;01mTrue\u001b[39;00m, \u001b[38;5;241m*\u001b[39m\u001b[38;5;241m*\u001b[39mkwargs)\n",
      "\u001b[0;31mAttributeError\u001b[0m: module 'nbconvert' has no attribute 'pdf'"
     ]
    }
   ],
   "source": [
    "# Save your notebook first, then run this cell to export your submission.\n",
    "grader.export(run_tests=True)"
   ]
  },
  {
   "cell_type": "code",
   "execution_count": null,
   "id": "3320a523-4226-4c14-937b-0057f75ecf86",
   "metadata": {},
   "outputs": [
    {
     "name": "stdout",
     "output_type": "stream",
     "text": [
      "Running your submission against local test cases...\n",
      "\n",
      "\n",
      "\n",
      "Your submission received the following results when run against available test cases:\n",
      "\n",
      "    q1 results: All test cases passed!\n",
      "\n",
      "    q2 results: All test cases passed!\n",
      "\n",
      "    q3 results: All test cases passed!\n",
      "\n",
      "    q4 results: All test cases passed!\n",
      "\n",
      "    q5 results: All test cases passed!\n",
      "\n",
      "    q6 results: All test cases passed!\n",
      "\n",
      "    q7 results: All test cases passed!\n",
      "\n",
      "    q8 results: All test cases passed!\n",
      "\n",
      "    q10 results: All test cases passed!\n"
     ]
    },
    {
     "data": {
      "text/html": [
       "\n",
       "            <p>Your submission has been exported. Click <a href=\"hwk05_advanced_2024_10_15T10_30_21_087670.zip\" download=\"hwk05_advanced_2024_10_15T10_30_21_087670.zip\" target=\"_blank\">here</a>\n",
       "            to download the zip file.</p>\n",
       "            "
      ],
      "text/plain": [
       "<IPython.core.display.HTML object>"
      ]
     },
     "metadata": {},
     "output_type": "display_data"
    }
   ],
   "source": [
    "grader.export(run_tests=True, filtering=False)"
   ]
  }
 ],
 "metadata": {
  "kernelspec": {
   "display_name": "Python 3 (ipykernel)",
   "language": "python",
   "name": "python3"
  },
  "language_info": {
   "codemirror_mode": {
    "name": "ipython",
    "version": 3
   },
   "file_extension": ".py",
   "mimetype": "text/x-python",
   "name": "python",
   "nbconvert_exporter": "python",
   "pygments_lexer": "ipython3",
   "version": "3.11.10"
  },
  "otter": {
   "OK_FORMAT": true,
   "tests": {
    "q1": {
     "name": "q1",
     "points": null,
     "suites": [
      {
       "cases": [
        {
         "code": ">>> data_path == 'data/'\nTrue",
         "hidden": false,
         "locked": false
        }
       ],
       "scored": true,
       "setup": "",
       "teardown": "",
       "type": "doctest"
      }
     ]
    },
    "q10": {
     "name": "q10",
     "points": null,
     "suites": [
      {
       "cases": [
        {
         "code": ">>> np.isclose(observed_r, 0.142074)\nTrue",
         "hidden": false,
         "locked": false
        }
       ],
       "scored": true,
       "setup": "",
       "teardown": "",
       "type": "doctest"
      }
     ]
    },
    "q2": {
     "name": "q2",
     "points": null,
     "suites": [
      {
       "cases": [
        {
         "code": ">>> len(add_health_networks) == 82\nTrue",
         "hidden": false,
         "locked": false
        }
       ],
       "scored": true,
       "setup": "",
       "teardown": "",
       "type": "doctest"
      }
     ]
    },
    "q3": {
     "name": "q3",
     "points": null,
     "suites": [
      {
       "cases": [
        {
         "code": ">>> np.isclose(avg_d, 6.6476)\nTrue",
         "hidden": false,
         "locked": false
        }
       ],
       "scored": true,
       "setup": "",
       "teardown": "",
       "type": "doctest"
      }
     ]
    },
    "q4": {
     "name": "q4",
     "points": null,
     "suites": [
      {
       "cases": [
        {
         "code": ">>> np.isclose(sum(add_health_clustering['num_nodes']) / len(add_health_clustering['num_nodes']), 870.1097)\nTrue",
         "hidden": false,
         "locked": false
        },
        {
         "code": ">>> np.isclose(sum(add_health_clustering['avg_clustering_coef']) / len(add_health_clustering['avg_clustering_coef']), 0.2198)\nTrue",
         "hidden": false,
         "locked": false
        }
       ],
       "scored": true,
       "setup": "",
       "teardown": "",
       "type": "doctest"
      }
     ]
    },
    "q5": {
     "name": "q5",
     "points": null,
     "suites": [
      {
       "cases": [
        {
         "code": ">>> np.isclose(sum(add_health_sp['num_nodes']) / len(add_health_sp['num_nodes']), 866.1219)\nTrue",
         "hidden": false,
         "locked": false
        },
        {
         "code": ">>> np.isclose(sum(add_health_sp['avg_shortest_path']) / len(add_health_sp['avg_shortest_path']), 4.3615)\nTrue",
         "hidden": false,
         "locked": false
        }
       ],
       "scored": true,
       "setup": "",
       "teardown": "",
       "type": "doctest"
      }
     ]
    },
    "q6": {
     "name": "q6",
     "points": null,
     "suites": [
      {
       "cases": [
        {
         "code": ">>> np.isclose(len(add_health_r), 82)\nTrue",
         "hidden": false,
         "locked": false
        },
        {
         "code": ">>> np.isclose(sum(add_health_r), 10.5323)\nTrue",
         "hidden": false,
         "locked": false
        }
       ],
       "scored": true,
       "setup": "",
       "teardown": "",
       "type": "doctest"
      }
     ]
    },
    "q7": {
     "name": "q7",
     "points": null,
     "suites": [
      {
       "cases": [
        {
         "code": ">>> np.isclose(q7, 0.142074)\nTrue",
         "hidden": false,
         "locked": false
        }
       ],
       "scored": true,
       "setup": "",
       "teardown": "",
       "type": "doctest"
      }
     ]
    },
    "q8": {
     "name": "q8",
     "points": null,
     "suites": [
      {
       "cases": [
        {
         "code": ">>> np.isclose(sum(null_network_r) / len(null_network_r), -0.0099759)\nFalse",
         "hidden": false,
         "locked": false
        }
       ],
       "scored": true,
       "setup": "",
       "teardown": "",
       "type": "doctest"
      }
     ]
    }
   }
  },
  "varInspector": {
   "cols": {
    "lenName": 16,
    "lenType": 16,
    "lenVar": 40
   },
   "kernels_config": {
    "python": {
     "delete_cmd_postfix": "",
     "delete_cmd_prefix": "del ",
     "library": "var_list.py",
     "varRefreshCmd": "print(var_dic_list())"
    },
    "r": {
     "delete_cmd_postfix": ") ",
     "delete_cmd_prefix": "del ",
     "library": "var_list.r",
     "varRefreshCmd": "print(var_dic_list()) "
    }
   },
   "types_to_exclude": [
    "module",
    "function",
    "builtin_function_or_method",
    "instance",
    "_Feature"
   ],
   "window_display": false
  }
 },
 "nbformat": 4,
 "nbformat_minor": 5
}
