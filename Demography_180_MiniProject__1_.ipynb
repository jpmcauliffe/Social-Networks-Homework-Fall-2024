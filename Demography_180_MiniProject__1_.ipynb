{
 "cells": [
  {
   "cell_type": "code",
   "execution_count": 73,
   "id": "014046d1-936c-496c-a698-865b99615ad1",
   "metadata": {},
   "outputs": [],
   "source": [
    "import pandas as pd\n",
    "import numpy as np\n",
    "import networkx as nx\n",
    "import matplotlib.pyplot as plt\n",
    "plt.style.use('fivethirtyeight')\n",
    "from datascience import *\n",
    "\n",
    "import matplotlib\n",
    "matplotlib.use('Agg')\n",
    "%matplotlib inline\n",
    "import os\n",
    "from networkx.algorithms import bipartite"
   ]
  },
  {
   "cell_type": "markdown",
   "id": "db2be9f3-11a7-488d-a1eb-3aaaef5f0ba5",
   "metadata": {},
   "source": [
    "**BEGIN PART A**"
   ]
  },
  {
   "cell_type": "code",
   "execution_count": 74,
   "id": "6e8536d3-261e-4ac7-97e7-496eeb8ca32a",
   "metadata": {},
   "outputs": [],
   "source": [
    "data_dir = \"letter_edgelist.tsv\""
   ]
  },
  {
   "cell_type": "code",
   "execution_count": 75,
   "id": "7704afdf-cd74-49b7-a766-7ea744227a1a",
   "metadata": {
    "scrolled": true
   },
   "outputs": [
    {
     "data": {
      "text/html": [
       "<div>\n",
       "<style scoped>\n",
       "    .dataframe tbody tr th:only-of-type {\n",
       "        vertical-align: middle;\n",
       "    }\n",
       "\n",
       "    .dataframe tbody tr th {\n",
       "        vertical-align: top;\n",
       "    }\n",
       "\n",
       "    .dataframe thead th {\n",
       "        text-align: right;\n",
       "    }\n",
       "</style>\n",
       "<table border=\"1\" class=\"dataframe\">\n",
       "  <thead>\n",
       "    <tr style=\"text-align: right;\">\n",
       "      <th></th>\n",
       "      <th>#SENDER_ID</th>\n",
       "      <th>RECIPIENT_ID</th>\n",
       "      <th>DATE_FROM</th>\n",
       "      <th>DATE_TO</th>\n",
       "      <th>MS_ID</th>\n",
       "      <th>PLACE_ID</th>\n",
       "      <th>MS_REF</th>\n",
       "    </tr>\n",
       "  </thead>\n",
       "  <tbody>\n",
       "    <tr>\n",
       "      <th>0</th>\n",
       "      <td>10102</td>\n",
       "      <td>18633</td>\n",
       "      <td>0</td>\n",
       "      <td>0</td>\n",
       "      <td>SP_84/63_f.49</td>\n",
       "      <td>0</td>\n",
       "      <td>SP 84/63 f.49</td>\n",
       "    </tr>\n",
       "    <tr>\n",
       "      <th>1</th>\n",
       "      <td>10407</td>\n",
       "      <td>24658</td>\n",
       "      <td>0</td>\n",
       "      <td>0</td>\n",
       "      <td>spo2_imcc-v003-p000_imcc-v003-p000-m0234-cm</td>\n",
       "      <td>3481</td>\n",
       "      <td>SP 63/25 f.55</td>\n",
       "    </tr>\n",
       "    <tr>\n",
       "      <th>2</th>\n",
       "      <td>10575</td>\n",
       "      <td>28163</td>\n",
       "      <td>0</td>\n",
       "      <td>0</td>\n",
       "      <td>Harley_7002_f.241</td>\n",
       "      <td>0</td>\n",
       "      <td>Harley 7002 f.241</td>\n",
       "    </tr>\n",
       "    <tr>\n",
       "      <th>3</th>\n",
       "      <td>10903</td>\n",
       "      <td>20638</td>\n",
       "      <td>0</td>\n",
       "      <td>0</td>\n",
       "      <td>Harley_7002_f.75</td>\n",
       "      <td>0</td>\n",
       "      <td>Harley 7002 f.75</td>\n",
       "    </tr>\n",
       "    <tr>\n",
       "      <th>4</th>\n",
       "      <td>10955</td>\n",
       "      <td>31585</td>\n",
       "      <td>0</td>\n",
       "      <td>0</td>\n",
       "      <td>SP_84/63_f.12</td>\n",
       "      <td>0</td>\n",
       "      <td>SP 84/63 f.12</td>\n",
       "    </tr>\n",
       "    <tr>\n",
       "      <th>...</th>\n",
       "      <td>...</td>\n",
       "      <td>...</td>\n",
       "      <td>...</td>\n",
       "      <td>...</td>\n",
       "      <td>...</td>\n",
       "      <td>...</td>\n",
       "      <td>...</td>\n",
       "    </tr>\n",
       "    <tr>\n",
       "      <th>139292</th>\n",
       "      <td>15618</td>\n",
       "      <td>29809</td>\n",
       "      <td>16030723</td>\n",
       "      <td>16030723</td>\n",
       "      <td>spo1_MQIS_SAL-v015-p015_mqes_sal-v015-p015-m04...</td>\n",
       "      <td>0</td>\n",
       "      <td>NaN</td>\n",
       "    </tr>\n",
       "    <tr>\n",
       "      <th>139293</th>\n",
       "      <td>20170</td>\n",
       "      <td>29809</td>\n",
       "      <td>16030723</td>\n",
       "      <td>16030723</td>\n",
       "      <td>spo1_MQIS_SAL-v015-p015_mqes_sal-v015-p015-m04...</td>\n",
       "      <td>4019</td>\n",
       "      <td>NaN</td>\n",
       "    </tr>\n",
       "    <tr>\n",
       "      <th>139294</th>\n",
       "      <td>11449</td>\n",
       "      <td>29809</td>\n",
       "      <td>16030724</td>\n",
       "      <td>16030724</td>\n",
       "      <td>spo1_MQIS_SAL-v015-p015_mqes_sal-v015-p015-m04...</td>\n",
       "      <td>0</td>\n",
       "      <td>NaN</td>\n",
       "    </tr>\n",
       "    <tr>\n",
       "      <th>139295</th>\n",
       "      <td>17019</td>\n",
       "      <td>7068</td>\n",
       "      <td>16030724</td>\n",
       "      <td>16030724</td>\n",
       "      <td>spo1_ELZ1-fd1580-td1625_elz1-fd1580-td1625-m13...</td>\n",
       "      <td>0</td>\n",
       "      <td>SP 15/35</td>\n",
       "    </tr>\n",
       "    <tr>\n",
       "      <th>139296</th>\n",
       "      <td>29618</td>\n",
       "      <td>29809</td>\n",
       "      <td>16030724</td>\n",
       "      <td>16030724</td>\n",
       "      <td>SP_84/64_f.32</td>\n",
       "      <td>0</td>\n",
       "      <td>SP 84/64 f.32</td>\n",
       "    </tr>\n",
       "  </tbody>\n",
       "</table>\n",
       "<p>139297 rows × 7 columns</p>\n",
       "</div>"
      ],
      "text/plain": [
       "        #SENDER_ID  RECIPIENT_ID  DATE_FROM   DATE_TO  \\\n",
       "0            10102         18633          0         0   \n",
       "1            10407         24658          0         0   \n",
       "2            10575         28163          0         0   \n",
       "3            10903         20638          0         0   \n",
       "4            10955         31585          0         0   \n",
       "...            ...           ...        ...       ...   \n",
       "139292       15618         29809   16030723  16030723   \n",
       "139293       20170         29809   16030723  16030723   \n",
       "139294       11449         29809   16030724  16030724   \n",
       "139295       17019          7068   16030724  16030724   \n",
       "139296       29618         29809   16030724  16030724   \n",
       "\n",
       "                                                    MS_ID PLACE_ID  \\\n",
       "0                                           SP_84/63_f.49        0   \n",
       "1             spo2_imcc-v003-p000_imcc-v003-p000-m0234-cm     3481   \n",
       "2                                       Harley_7002_f.241        0   \n",
       "3                                        Harley_7002_f.75        0   \n",
       "4                                           SP_84/63_f.12        0   \n",
       "...                                                   ...      ...   \n",
       "139292  spo1_MQIS_SAL-v015-p015_mqes_sal-v015-p015-m04...        0   \n",
       "139293  spo1_MQIS_SAL-v015-p015_mqes_sal-v015-p015-m04...     4019   \n",
       "139294  spo1_MQIS_SAL-v015-p015_mqes_sal-v015-p015-m04...        0   \n",
       "139295  spo1_ELZ1-fd1580-td1625_elz1-fd1580-td1625-m13...        0   \n",
       "139296                                      SP_84/64_f.32        0   \n",
       "\n",
       "                   MS_REF  \n",
       "0           SP 84/63 f.49  \n",
       "1           SP 63/25 f.55  \n",
       "2       Harley 7002 f.241  \n",
       "3        Harley 7002 f.75  \n",
       "4           SP 84/63 f.12  \n",
       "...                   ...  \n",
       "139292                NaN  \n",
       "139293                NaN  \n",
       "139294                NaN  \n",
       "139295           SP 15/35  \n",
       "139296      SP 84/64 f.32  \n",
       "\n",
       "[139297 rows x 7 columns]"
      ]
     },
     "execution_count": 75,
     "metadata": {},
     "output_type": "execute_result"
    }
   ],
   "source": [
    "tudor_df = pd.read_csv(data_dir, sep='\\t') \n",
    "tudor_df"
   ]
  },
  {
   "cell_type": "code",
   "execution_count": 76,
   "id": "a900888a-0406-4954-a737-1d921acb8569",
   "metadata": {},
   "outputs": [
    {
     "data": {
      "text/html": [
       "<div>\n",
       "<style scoped>\n",
       "    .dataframe tbody tr th:only-of-type {\n",
       "        vertical-align: middle;\n",
       "    }\n",
       "\n",
       "    .dataframe tbody tr th {\n",
       "        vertical-align: top;\n",
       "    }\n",
       "\n",
       "    .dataframe thead th {\n",
       "        text-align: right;\n",
       "    }\n",
       "</style>\n",
       "<table border=\"1\" class=\"dataframe\">\n",
       "  <thead>\n",
       "    <tr style=\"text-align: right;\">\n",
       "      <th></th>\n",
       "      <th>#SENDER_ID</th>\n",
       "      <th>RECIPIENT_ID</th>\n",
       "      <th>weight</th>\n",
       "    </tr>\n",
       "  </thead>\n",
       "  <tbody>\n",
       "    <tr>\n",
       "      <th>0</th>\n",
       "      <td>7</td>\n",
       "      <td>32642</td>\n",
       "      <td>1</td>\n",
       "    </tr>\n",
       "    <tr>\n",
       "      <th>1</th>\n",
       "      <td>9</td>\n",
       "      <td>33559</td>\n",
       "      <td>1</td>\n",
       "    </tr>\n",
       "    <tr>\n",
       "      <th>2</th>\n",
       "      <td>10</td>\n",
       "      <td>30478</td>\n",
       "      <td>1</td>\n",
       "    </tr>\n",
       "    <tr>\n",
       "      <th>3</th>\n",
       "      <td>12</td>\n",
       "      <td>28530</td>\n",
       "      <td>1</td>\n",
       "    </tr>\n",
       "    <tr>\n",
       "      <th>4</th>\n",
       "      <td>13</td>\n",
       "      <td>24566</td>\n",
       "      <td>1</td>\n",
       "    </tr>\n",
       "    <tr>\n",
       "      <th>...</th>\n",
       "      <td>...</td>\n",
       "      <td>...</td>\n",
       "      <td>...</td>\n",
       "    </tr>\n",
       "    <tr>\n",
       "      <th>40110</th>\n",
       "      <td>38196</td>\n",
       "      <td>30478</td>\n",
       "      <td>1</td>\n",
       "    </tr>\n",
       "    <tr>\n",
       "      <th>40111</th>\n",
       "      <td>38197</td>\n",
       "      <td>24658</td>\n",
       "      <td>1</td>\n",
       "    </tr>\n",
       "    <tr>\n",
       "      <th>40112</th>\n",
       "      <td>38198</td>\n",
       "      <td>19699</td>\n",
       "      <td>1</td>\n",
       "    </tr>\n",
       "    <tr>\n",
       "      <th>40113</th>\n",
       "      <td>38199</td>\n",
       "      <td>12113</td>\n",
       "      <td>1</td>\n",
       "    </tr>\n",
       "    <tr>\n",
       "      <th>40114</th>\n",
       "      <td>40000</td>\n",
       "      <td>26576</td>\n",
       "      <td>1</td>\n",
       "    </tr>\n",
       "  </tbody>\n",
       "</table>\n",
       "<p>40115 rows × 3 columns</p>\n",
       "</div>"
      ],
      "text/plain": [
       "       #SENDER_ID  RECIPIENT_ID  weight\n",
       "0               7         32642       1\n",
       "1               9         33559       1\n",
       "2              10         30478       1\n",
       "3              12         28530       1\n",
       "4              13         24566       1\n",
       "...           ...           ...     ...\n",
       "40110       38196         30478       1\n",
       "40111       38197         24658       1\n",
       "40112       38198         19699       1\n",
       "40113       38199         12113       1\n",
       "40114       40000         26576       1\n",
       "\n",
       "[40115 rows x 3 columns]"
      ]
     },
     "execution_count": 76,
     "metadata": {},
     "output_type": "execute_result"
    }
   ],
   "source": [
    "raw_data_agg = tudor_df.groupby(['#SENDER_ID', 'RECIPIENT_ID']).size().reset_index(name='weight')\n",
    "raw_data_agg"
   ]
  },
  {
   "cell_type": "code",
   "execution_count": 77,
   "id": "53f1d8bc-8648-4fd0-814a-3abdce83bdfe",
   "metadata": {},
   "outputs": [
    {
     "data": {
      "text/html": [
       "<div>\n",
       "<style scoped>\n",
       "    .dataframe tbody tr th:only-of-type {\n",
       "        vertical-align: middle;\n",
       "    }\n",
       "\n",
       "    .dataframe tbody tr th {\n",
       "        vertical-align: top;\n",
       "    }\n",
       "\n",
       "    .dataframe thead th {\n",
       "        text-align: right;\n",
       "    }\n",
       "</style>\n",
       "<table border=\"1\" class=\"dataframe\">\n",
       "  <thead>\n",
       "    <tr style=\"text-align: right;\">\n",
       "      <th></th>\n",
       "      <th>#SENDER_ID</th>\n",
       "      <th>RECIPIENT_ID</th>\n",
       "      <th>weight</th>\n",
       "    </tr>\n",
       "  </thead>\n",
       "  <tbody>\n",
       "    <tr>\n",
       "      <th>32382</th>\n",
       "      <td>30517</td>\n",
       "      <td>30478</td>\n",
       "      <td>563</td>\n",
       "    </tr>\n",
       "    <tr>\n",
       "      <th>25848</th>\n",
       "      <td>26415</td>\n",
       "      <td>30478</td>\n",
       "      <td>449</td>\n",
       "    </tr>\n",
       "    <tr>\n",
       "      <th>28988</th>\n",
       "      <td>28892</td>\n",
       "      <td>30478</td>\n",
       "      <td>442</td>\n",
       "    </tr>\n",
       "    <tr>\n",
       "      <th>7050</th>\n",
       "      <td>8067</td>\n",
       "      <td>28530</td>\n",
       "      <td>421</td>\n",
       "    </tr>\n",
       "    <tr>\n",
       "      <th>32287</th>\n",
       "      <td>30507</td>\n",
       "      <td>30478</td>\n",
       "      <td>390</td>\n",
       "    </tr>\n",
       "    <tr>\n",
       "      <th>...</th>\n",
       "      <td>...</td>\n",
       "      <td>...</td>\n",
       "      <td>...</td>\n",
       "    </tr>\n",
       "    <tr>\n",
       "      <th>15851</th>\n",
       "      <td>15617</td>\n",
       "      <td>32545</td>\n",
       "      <td>1</td>\n",
       "    </tr>\n",
       "    <tr>\n",
       "      <th>15850</th>\n",
       "      <td>15616</td>\n",
       "      <td>24566</td>\n",
       "      <td>1</td>\n",
       "    </tr>\n",
       "    <tr>\n",
       "      <th>15848</th>\n",
       "      <td>15615</td>\n",
       "      <td>13349</td>\n",
       "      <td>1</td>\n",
       "    </tr>\n",
       "    <tr>\n",
       "      <th>15846</th>\n",
       "      <td>15614</td>\n",
       "      <td>35838</td>\n",
       "      <td>1</td>\n",
       "    </tr>\n",
       "    <tr>\n",
       "      <th>15872</th>\n",
       "      <td>15634</td>\n",
       "      <td>9125</td>\n",
       "      <td>1</td>\n",
       "    </tr>\n",
       "  </tbody>\n",
       "</table>\n",
       "<p>40115 rows × 3 columns</p>\n",
       "</div>"
      ],
      "text/plain": [
       "       #SENDER_ID  RECIPIENT_ID  weight\n",
       "32382       30517         30478     563\n",
       "25848       26415         30478     449\n",
       "28988       28892         30478     442\n",
       "7050         8067         28530     421\n",
       "32287       30507         30478     390\n",
       "...           ...           ...     ...\n",
       "15851       15617         32545       1\n",
       "15850       15616         24566       1\n",
       "15848       15615         13349       1\n",
       "15846       15614         35838       1\n",
       "15872       15634          9125       1\n",
       "\n",
       "[40115 rows x 3 columns]"
      ]
     },
     "execution_count": 77,
     "metadata": {},
     "output_type": "execute_result"
    }
   ],
   "source": [
    "raw_data_agg.sort_values(by='weight', ascending=False)"
   ]
  },
  {
   "cell_type": "code",
   "execution_count": 78,
   "id": "9b4fcdc5-494c-407a-85eb-5db2c042fcd4",
   "metadata": {},
   "outputs": [],
   "source": [
    "tudor_net = nx.from_pandas_edgelist(df = raw_data_agg, source='#SENDER_ID', target='RECIPIENT_ID', edge_attr=True)"
   ]
  },
  {
   "cell_type": "code",
   "execution_count": 79,
   "id": "6f728ee3-6328-411c-9853-4ffc6edb9d57",
   "metadata": {},
   "outputs": [],
   "source": [
    "tudor_net_directed = nx.from_pandas_edgelist(df = raw_data_agg, \n",
    "                                             source='#SENDER_ID', \n",
    "                                             target='RECIPIENT_ID',\n",
    "                                             create_using = nx.DiGraph(),\n",
    "                                             edge_attr=True)"
   ]
  },
  {
   "cell_type": "code",
   "execution_count": 80,
   "id": "70263b73-5113-46a0-8d02-985928a50fcf",
   "metadata": {},
   "outputs": [
    {
     "data": {
      "text/html": [
       "<div>\n",
       "<style scoped>\n",
       "    .dataframe tbody tr th:only-of-type {\n",
       "        vertical-align: middle;\n",
       "    }\n",
       "\n",
       "    .dataframe tbody tr th {\n",
       "        vertical-align: top;\n",
       "    }\n",
       "\n",
       "    .dataframe thead th {\n",
       "        text-align: right;\n",
       "    }\n",
       "</style>\n",
       "<table border=\"1\" class=\"dataframe\">\n",
       "  <thead>\n",
       "    <tr style=\"text-align: right;\">\n",
       "      <th></th>\n",
       "      <th>id</th>\n",
       "      <th>in_degree</th>\n",
       "      <th>out_degree</th>\n",
       "    </tr>\n",
       "  </thead>\n",
       "  <tbody>\n",
       "    <tr>\n",
       "      <th>0</th>\n",
       "      <td>7</td>\n",
       "      <td>0</td>\n",
       "      <td>1</td>\n",
       "    </tr>\n",
       "    <tr>\n",
       "      <th>1</th>\n",
       "      <td>32642</td>\n",
       "      <td>141</td>\n",
       "      <td>25</td>\n",
       "    </tr>\n",
       "    <tr>\n",
       "      <th>2</th>\n",
       "      <td>9</td>\n",
       "      <td>0</td>\n",
       "      <td>1</td>\n",
       "    </tr>\n",
       "    <tr>\n",
       "      <th>3</th>\n",
       "      <td>33559</td>\n",
       "      <td>4</td>\n",
       "      <td>1</td>\n",
       "    </tr>\n",
       "    <tr>\n",
       "      <th>4</th>\n",
       "      <td>10</td>\n",
       "      <td>0</td>\n",
       "      <td>1</td>\n",
       "    </tr>\n",
       "    <tr>\n",
       "      <th>...</th>\n",
       "      <td>...</td>\n",
       "      <td>...</td>\n",
       "      <td>...</td>\n",
       "    </tr>\n",
       "    <tr>\n",
       "      <th>20555</th>\n",
       "      <td>38197</td>\n",
       "      <td>0</td>\n",
       "      <td>1</td>\n",
       "    </tr>\n",
       "    <tr>\n",
       "      <th>20556</th>\n",
       "      <td>38198</td>\n",
       "      <td>0</td>\n",
       "      <td>1</td>\n",
       "    </tr>\n",
       "    <tr>\n",
       "      <th>20557</th>\n",
       "      <td>38199</td>\n",
       "      <td>0</td>\n",
       "      <td>1</td>\n",
       "    </tr>\n",
       "    <tr>\n",
       "      <th>20558</th>\n",
       "      <td>40000</td>\n",
       "      <td>0</td>\n",
       "      <td>1</td>\n",
       "    </tr>\n",
       "    <tr>\n",
       "      <th>20559</th>\n",
       "      <td>26576</td>\n",
       "      <td>1</td>\n",
       "      <td>0</td>\n",
       "    </tr>\n",
       "  </tbody>\n",
       "</table>\n",
       "<p>20560 rows × 3 columns</p>\n",
       "</div>"
      ],
      "text/plain": [
       "          id  in_degree  out_degree\n",
       "0          7          0           1\n",
       "1      32642        141          25\n",
       "2          9          0           1\n",
       "3      33559          4           1\n",
       "4         10          0           1\n",
       "...      ...        ...         ...\n",
       "20555  38197          0           1\n",
       "20556  38198          0           1\n",
       "20557  38199          0           1\n",
       "20558  40000          0           1\n",
       "20559  26576          1           0\n",
       "\n",
       "[20560 rows x 3 columns]"
      ]
     },
     "execution_count": 80,
     "metadata": {},
     "output_type": "execute_result"
    }
   ],
   "source": [
    "# Create a dataset with only one row for each node (rather than one row for each node/node pair)\n",
    "# Calculate the number of emails sent to that node by any other node\n",
    "# And the number of emails sent from that node to any other node\n",
    "\n",
    "tudor_degree_df = pd.DataFrame({'id' : tudor_net_directed.nodes(),\n",
    "             'in_degree' : [y for (x,y) in tudor_net_directed.in_degree()],\n",
    "             'out_degree' : [y for (x,y) in tudor_net_directed.out_degree()]\n",
    "             })\n",
    "\n",
    "tudor_degree_df"
   ]
  },
  {
   "cell_type": "code",
   "execution_count": 81,
   "id": "27b0f33d-c574-46d1-b9c8-b0b88cac31b2",
   "metadata": {},
   "outputs": [
    {
     "data": {
      "text/plain": [
       "1.9511186770428015"
      ]
     },
     "execution_count": 81,
     "metadata": {},
     "output_type": "execute_result"
    }
   ],
   "source": [
    "# Calculate the average in-degree\n",
    "av_in_degree = np.average(tudor_degree_df['in_degree'])\n",
    "av_in_degree"
   ]
  },
  {
   "cell_type": "code",
   "execution_count": 82,
   "id": "081e3603-850c-48f9-819e-c330e8e426df",
   "metadata": {},
   "outputs": [
    {
     "data": {
      "text/plain": [
       "1.9511186770428015"
      ]
     },
     "execution_count": 82,
     "metadata": {},
     "output_type": "execute_result"
    }
   ],
   "source": [
    "# Calculate the average out-degree\n",
    "av_out_degree = np.average(tudor_degree_df['out_degree'])\n",
    "av_out_degree"
   ]
  },
  {
   "cell_type": "code",
   "execution_count": 83,
   "id": "77180888-2efd-4f2d-8ca8-8bbbc9f12e8f",
   "metadata": {},
   "outputs": [
    {
     "data": {
      "text/plain": [
       "{'divide': 'ignore', 'over': 'warn', 'under': 'ignore', 'invalid': 'warn'}"
      ]
     },
     "execution_count": 83,
     "metadata": {},
     "output_type": "execute_result"
    }
   ],
   "source": [
    "# Uncomment and run the following cell if you get the warning \"divide by zero encountered in log\"\n",
    "np.seterr(divide = 'ignore') "
   ]
  },
  {
   "cell_type": "code",
   "execution_count": 84,
   "id": "e69134f0-5539-4c78-ae5f-92b04e9e8c46",
   "metadata": {},
   "outputs": [
    {
     "data": {
      "image/png": "[encoded data removed]",
      "text/plain": [
       "<Figure size 640x480 with 1 Axes>"
      ]
     },
     "metadata": {},
     "output_type": "display_data"
    }
   ],
   "source": [
    "plt.scatter(np.log(tudor_degree_df['in_degree']),\n",
    "            np.log(tudor_degree_df['out_degree']),\n",
    "            alpha = 0.3)\n",
    "#plt.xscale('log')\n",
    "#plt.yscale('log')\n",
    "plt.xlabel(\"In-degree (log scale)\")\n",
    "plt.ylabel(\"Out-degree (log scale)\")\n",
    "plt.show()"
   ]
  },
  {
   "cell_type": "markdown",
   "id": "4807fe09-63b8-45d3-b9af-4ced7797882c",
   "metadata": {},
   "source": [
    "**END PART A**"
   ]
  },
  {
   "cell_type": "markdown",
   "id": "247eb095-cfd5-409e-afdd-9614a8210b71",
   "metadata": {},
   "source": [
    "**BEGIN PART B**"
   ]
  },
  {
   "cell_type": "code",
   "execution_count": 85,
   "id": "d3654925-0f84-4c3e-8326-5061f3a4da69",
   "metadata": {},
   "outputs": [
    {
     "data": {
      "text/plain": [
       "942"
      ]
     },
     "execution_count": 85,
     "metadata": {},
     "output_type": "execute_result"
    }
   ],
   "source": [
    "nx.number_connected_components(tudor_net)"
   ]
  },
  {
   "cell_type": "code",
   "execution_count": 86,
   "id": "f2965e12-2763-47e6-b34c-96ff637f49b3",
   "metadata": {},
   "outputs": [],
   "source": [
    "cur_network = tudor_net"
   ]
  },
  {
   "cell_type": "code",
   "execution_count": 87,
   "id": "850416a9-512f-42e6-8226-8d95c2ce143c",
   "metadata": {},
   "outputs": [],
   "source": [
    "def get_degree_list(g):\n",
    "    return([deg_val for (node, deg_val) in g.degree()])"
   ]
  },
  {
   "cell_type": "code",
   "execution_count": 88,
   "id": "c919f46c-af8e-429e-bb20-d89e76f2a1b0",
   "metadata": {},
   "outputs": [],
   "source": [
    "def plot_degree_list(deg_list, **kwargs):\n",
    "    Table().with_column('degree', deg_list).hist(**kwargs)"
   ]
  },
  {
   "cell_type": "code",
   "execution_count": 89,
   "id": "999aa2c3-a426-4692-ae8d-1186a851c213",
   "metadata": {},
   "outputs": [],
   "source": [
    "def compare_degree_lists(name1, deg_list1, name2, deg_list2, **kwargs):\n",
    "    Table().with_column(name1, deg_list1).with_column(name2, deg_list2).hist(**kwargs)"
   ]
  },
  {
   "cell_type": "code",
   "execution_count": 90,
   "id": "afa7769f-1c37-4cf1-a214-f0be1f2b5e0c",
   "metadata": {},
   "outputs": [],
   "source": [
    "cur_network_degrees = get_degree_list(cur_network)\n",
    "#cur_network_degrees"
   ]
  },
  {
   "cell_type": "code",
   "execution_count": 91,
   "id": "1e7dee08-195d-4415-a114-a6c3a381a797",
   "metadata": {},
   "outputs": [
    {
     "data": {
      "image/png": "[encoded data removed]",
      "text/plain": [
       "<Figure size 600x400 with 1 Axes>"
      ]
     },
     "metadata": {},
     "output_type": "display_data"
    }
   ],
   "source": [
    "plot_degree_list(cur_network_degrees)"
   ]
  },
  {
   "cell_type": "code",
   "execution_count": 92,
   "id": "5172d7bf-6e25-4515-9373-cd796ae4b149",
   "metadata": {},
   "outputs": [
    {
     "data": {
      "text/plain": [
       "3.5687743190661481"
      ]
     },
     "execution_count": 92,
     "metadata": {},
     "output_type": "execute_result"
    }
   ],
   "source": [
    "avg_degree = np.mean(cur_network_degrees)\n",
    "avg_degree"
   ]
  },
  {
   "cell_type": "code",
   "execution_count": 93,
   "id": "9f117d35-7cb0-4b9f-ab85-df3a29e38965",
   "metadata": {},
   "outputs": [
    {
     "data": {
      "text/plain": [
       "20560"
      ]
     },
     "execution_count": 93,
     "metadata": {},
     "output_type": "execute_result"
    }
   ],
   "source": [
    "num_nodes = cur_network.number_of_nodes()\n",
    "num_nodes"
   ]
  },
  {
   "cell_type": "markdown",
   "id": "4790271a-adc9-4cd3-b82b-fd21277529fa",
   "metadata": {},
   "source": [
    "This suggests that a 'matching' ER network would have parameters\n",
    "\n",
    "* $n = 20560$ \n",
    "* $\\bar{d} = 3.5687743190661481 \\Longleftrightarrow p = 3.5687743190661481/20560 = 0.00017357851$"
   ]
  },
  {
   "cell_type": "code",
   "execution_count": 94,
   "id": "2a1070ab-095c-4757-b9ea-a700d2a23aa3",
   "metadata": {},
   "outputs": [],
   "source": [
    "config_model_graph = nx.configuration_model(cur_network_degrees)"
   ]
  },
  {
   "cell_type": "code",
   "execution_count": 95,
   "id": "e0ff255b-5b7a-4cd4-a75d-2b39e4c5e120",
   "metadata": {},
   "outputs": [
    {
     "data": {
      "text/plain": [
       "20560"
      ]
     },
     "execution_count": 95,
     "metadata": {},
     "output_type": "execute_result"
    }
   ],
   "source": [
    "config_model_graph.number_of_nodes()"
   ]
  },
  {
   "cell_type": "code",
   "execution_count": 96,
   "id": "5312fca8-de47-4bbf-a3c2-7182559b5a18",
   "metadata": {},
   "outputs": [
    {
     "data": {
      "text/plain": [
       "True"
      ]
     },
     "execution_count": 96,
     "metadata": {},
     "output_type": "execute_result"
    }
   ],
   "source": [
    "config_model_degree_list = get_degree_list(config_model_graph)\n",
    "cur_network_degrees == config_model_degree_list"
   ]
  },
  {
   "cell_type": "code",
   "execution_count": 97,
   "id": "ec914b8c-7fac-487d-9faa-83bdb9b3a2a5",
   "metadata": {},
   "outputs": [
    {
     "data": {
      "text/plain": [
       "<networkx.classes.multigraph.MultiGraph at 0x7e1664f13f50>"
      ]
     },
     "execution_count": 97,
     "metadata": {},
     "output_type": "execute_result"
    }
   ],
   "source": [
    "config_model_graph"
   ]
  },
  {
   "cell_type": "code",
   "execution_count": 98,
   "id": "be69b623-053e-4517-920a-cea4d9707a4f",
   "metadata": {},
   "outputs": [],
   "source": [
    "# get rid of self-loops and multiple edges\n",
    "simple_config_model_graph = nx.Graph(config_model_graph)\n",
    "simple_config_model_graph.remove_edges_from(nx.selfloop_edges(simple_config_model_graph))"
   ]
  },
  {
   "cell_type": "code",
   "execution_count": 99,
   "id": "30f15a16-6028-4e03-a250-a2b45e3f746e",
   "metadata": {},
   "outputs": [
    {
     "data": {
      "text/plain": [
       "False"
      ]
     },
     "execution_count": 99,
     "metadata": {},
     "output_type": "execute_result"
    }
   ],
   "source": [
    "simple_config_model_degree_list = get_degree_list(simple_config_model_graph)\n",
    "cur_network_degrees == simple_config_model_degree_list"
   ]
  },
  {
   "cell_type": "code",
   "execution_count": 100,
   "id": "abd53d8c-4e29-4e60-945b-0228ebf7c51c",
   "metadata": {},
   "outputs": [],
   "source": [
    "#compare_degree_lists('observed', cur_network_degrees, 'config model simplified', simple_config_model_degree_list)"
   ]
  },
  {
   "cell_type": "code",
   "execution_count": 101,
   "id": "497d78a9-adf9-4a6f-8d68-d9164761fd6c",
   "metadata": {},
   "outputs": [],
   "source": [
    "#cc_in_tudor = nx.average_clustering(cur_network)"
   ]
  },
  {
   "cell_type": "code",
   "execution_count": 102,
   "id": "fe07d982-7e81-494c-94f3-5c81bbfa28aa",
   "metadata": {},
   "outputs": [],
   "source": [
    "#nx.average_clustering(simple_config_model_graph)"
   ]
  },
  {
   "cell_type": "code",
   "execution_count": 103,
   "id": "93157a7d-887e-4dab-9310-8b3ab3fc2314",
   "metadata": {},
   "outputs": [],
   "source": [
    "#assort_in_tudor = nx.degree_assortativity_coefficient(cur_network)"
   ]
  },
  {
   "cell_type": "code",
   "execution_count": 104,
   "id": "f2a52eae-420d-4c43-a75f-28d9f35e015d",
   "metadata": {},
   "outputs": [],
   "source": [
    "#nx.degree_assortativity_coefficient(simple_config_model_graph)"
   ]
  },
  {
   "cell_type": "code",
   "execution_count": 105,
   "id": "b2b86854-ca23-44b1-980d-05e6c5d63365",
   "metadata": {},
   "outputs": [],
   "source": [
    "#cc_res = make_array()\n",
    "#assort_res = make_array()\n",
    "\n",
    "#for i in range(100):\n",
    "#    cur_rand_config_model_graph = nx.configuration_model(cur_network_degrees)\n",
    "#    # simplify the graph by removing multi-edges and self loops\n",
    "#    cur_rand_config_model_graph = nx.Graph(cur_rand_config_model_graph)\n",
    "#    cur_rand_config_model_graph.remove_edges_from(nx.selfloop_edges(cur_rand_config_model_graph))\n",
    "#    cc_res = np.append(cc_res, nx.average_clustering(cur_rand_config_model_graph))\n",
    "#    assort_res = np.append(assort_res, nx.degree_assortativity_coefficient(cur_rand_config_model_graph))\n",
    "    \n",
    "#Table().with_column('config model CC', cc_res).hist()"
   ]
  },
  {
   "cell_type": "code",
   "execution_count": 106,
   "id": "e024d08f-afab-4c83-9a3c-4ed86336fabe",
   "metadata": {},
   "outputs": [],
   "source": [
    "#cc_table = Table().with_column('config model CC', cc_res)\n",
    "#cc_table.hist()"
   ]
  },
  {
   "cell_type": "code",
   "execution_count": 107,
   "id": "ff957e77-0493-4d33-b456-3efaaa9817c7",
   "metadata": {},
   "outputs": [],
   "source": [
    "#print(min(cc_table.column(0)))\n",
    "#print(np.percentile(cc_table.column(0), 25))\n",
    "#print(np.percentile(cc_table.column(0), 50))\n",
    "#print(np.percentile(cc_table.column(0), 75))\n",
    "#print(max(cc_table.column(0)))"
   ]
  },
  {
   "cell_type": "code",
   "execution_count": 108,
   "id": "006051cb-8fd3-4685-94c2-9731d4965ff6",
   "metadata": {},
   "outputs": [],
   "source": [
    "#cc_in_tudor"
   ]
  },
  {
   "cell_type": "code",
   "execution_count": 109,
   "id": "871e1fdf-d2c1-47b0-8cf1-8297cb69de8d",
   "metadata": {},
   "outputs": [],
   "source": [
    "#np.count_nonzero(cc_table.column(0) >= cc_in_tudor) / len(cc_table.column(0))"
   ]
  },
  {
   "cell_type": "code",
   "execution_count": 110,
   "id": "f4a193d5-df13-41e1-8aa7-c1906028ae07",
   "metadata": {},
   "outputs": [],
   "source": [
    "#assort_table = Table().with_column('config model assortativity', assort_res)\n",
    "#assort_table.hist()"
   ]
  },
  {
   "cell_type": "code",
   "execution_count": 111,
   "id": "542519e3-d74a-4422-87f7-9abb80904581",
   "metadata": {},
   "outputs": [],
   "source": [
    "#print(np.mean(assort_table.column(0)))\n",
    "#print(min(assort_table.column(0)))\n",
    "#print(max(assort_table.column(0)))"
   ]
  },
  {
   "cell_type": "code",
   "execution_count": 112,
   "id": "fda383d9-91a3-4fa9-9360-61ebb8a6a6ad",
   "metadata": {},
   "outputs": [],
   "source": [
    "#assort_in_tudor"
   ]
  },
  {
   "cell_type": "code",
   "execution_count": 113,
   "id": "22cfb7f2-4303-405f-9496-ba62a14c084b",
   "metadata": {},
   "outputs": [],
   "source": [
    "#np.count_nonzero(assort_table.column(0) <= assort_in_tudor) / len(assort_table.column(0))"
   ]
  },
  {
   "cell_type": "markdown",
   "id": "6c10bb93-d5c7-486a-9af7-6ca3f9633dbe",
   "metadata": {},
   "source": [
    "**END PART B**"
   ]
  },
  {
   "cell_type": "markdown",
   "id": "656dc83f-3737-46bb-afdc-8c158be0544f",
   "metadata": {},
   "source": [
    "**BEGIN PART C (EXTRA CREDIT)**"
   ]
  },
  {
   "cell_type": "code",
   "execution_count": 114,
   "id": "5179f674-d49b-47da-a185-c32965a39f5b",
   "metadata": {},
   "outputs": [],
   "source": [
    "ec_dir = \"people_labels.tsv\""
   ]
  },
  {
   "cell_type": "code",
   "execution_count": 143,
   "id": "11daa7df-2df8-420e-acfe-809581d6a7be",
   "metadata": {},
   "outputs": [
    {
     "data": {
      "text/html": [
       "<div>\n",
       "<style scoped>\n",
       "    .dataframe tbody tr th:only-of-type {\n",
       "        vertical-align: middle;\n",
       "    }\n",
       "\n",
       "    .dataframe tbody tr th {\n",
       "        vertical-align: top;\n",
       "    }\n",
       "\n",
       "    .dataframe thead th {\n",
       "        text-align: right;\n",
       "    }\n",
       "</style>\n",
       "<table border=\"1\" class=\"dataframe\">\n",
       "  <thead>\n",
       "    <tr style=\"text-align: right;\">\n",
       "      <th></th>\n",
       "      <th>3</th>\n",
       "      <th>(Monseigneur)</th>\n",
       "    </tr>\n",
       "  </thead>\n",
       "  <tbody>\n",
       "    <tr>\n",
       "      <th>0</th>\n",
       "      <td>7</td>\n",
       "      <td>--- Parker the elder</td>\n",
       "    </tr>\n",
       "    <tr>\n",
       "      <th>1</th>\n",
       "      <td>9</td>\n",
       "      <td>--- Thomas</td>\n",
       "    </tr>\n",
       "    <tr>\n",
       "      <th>2</th>\n",
       "      <td>10</td>\n",
       "      <td>--- Topcliffe</td>\n",
       "    </tr>\n",
       "    <tr>\n",
       "      <th>3</th>\n",
       "      <td>12</td>\n",
       "      <td>...</td>\n",
       "    </tr>\n",
       "    <tr>\n",
       "      <th>4</th>\n",
       "      <td>13</td>\n",
       "      <td>11 others</td>\n",
       "    </tr>\n",
       "    <tr>\n",
       "      <th>...</th>\n",
       "      <td>...</td>\n",
       "      <td>...</td>\n",
       "    </tr>\n",
       "    <tr>\n",
       "      <th>20554</th>\n",
       "      <td>38197</td>\n",
       "      <td>Robert Stewart, 1st Earl of March</td>\n",
       "    </tr>\n",
       "    <tr>\n",
       "      <th>20555</th>\n",
       "      <td>38198</td>\n",
       "      <td>John Porterfield</td>\n",
       "    </tr>\n",
       "    <tr>\n",
       "      <th>20556</th>\n",
       "      <td>38199</td>\n",
       "      <td>Margaret of Savoy's Council</td>\n",
       "    </tr>\n",
       "    <tr>\n",
       "      <th>20557</th>\n",
       "      <td>38200</td>\n",
       "      <td>Thomas Sherley</td>\n",
       "    </tr>\n",
       "    <tr>\n",
       "      <th>20558</th>\n",
       "      <td>40000</td>\n",
       "      <td>-</td>\n",
       "    </tr>\n",
       "  </tbody>\n",
       "</table>\n",
       "<p>20559 rows × 2 columns</p>\n",
       "</div>"
      ],
      "text/plain": [
       "           3                      (Monseigneur)\n",
       "0          7               --- Parker the elder\n",
       "1          9                         --- Thomas\n",
       "2         10                      --- Topcliffe\n",
       "3         12                                ...\n",
       "4         13                          11 others\n",
       "...      ...                                ...\n",
       "20554  38197  Robert Stewart, 1st Earl of March\n",
       "20555  38198                   John Porterfield\n",
       "20556  38199        Margaret of Savoy's Council\n",
       "20557  38200                     Thomas Sherley\n",
       "20558  40000                                  -\n",
       "\n",
       "[20559 rows x 2 columns]"
      ]
     },
     "execution_count": 143,
     "metadata": {},
     "output_type": "execute_result"
    }
   ],
   "source": [
    "ec_df = pd.read_csv(ec_dir, sep='\\t') \n",
    "ec_df"
   ]
  },
  {
   "cell_type": "code",
   "execution_count": 116,
   "id": "4cbf0f07-b23b-43d8-9561-aed0b8b9dbfc",
   "metadata": {},
   "outputs": [
    {
     "data": {
      "text/html": [
       "<table border=\"1\" class=\"dataframe\">\n",
       "    <thead>\n",
       "        <tr>\n",
       "            <th>id</th> <th>label</th>\n",
       "        </tr>\n",
       "    </thead>\n",
       "    <tbody>\n",
       "        <tr>\n",
       "            <td>7   </td> <td>--- Parker the elder       </td>\n",
       "        </tr>\n",
       "        <tr>\n",
       "            <td>9   </td> <td>--- Thomas                 </td>\n",
       "        </tr>\n",
       "        <tr>\n",
       "            <td>10  </td> <td>--- Topcliffe              </td>\n",
       "        </tr>\n",
       "        <tr>\n",
       "            <td>12  </td> <td>...                        </td>\n",
       "        </tr>\n",
       "        <tr>\n",
       "            <td>13  </td> <td>11 others                  </td>\n",
       "        </tr>\n",
       "        <tr>\n",
       "            <td>15  </td> <td>A Blakcadell               </td>\n",
       "        </tr>\n",
       "        <tr>\n",
       "            <td>16  </td> <td>A Captain of Bouchain      </td>\n",
       "        </tr>\n",
       "        <tr>\n",
       "            <td>17  </td> <td>A Catholic in Brussels     </td>\n",
       "        </tr>\n",
       "        <tr>\n",
       "            <td>19  </td> <td>A Councillor of France     </td>\n",
       "        </tr>\n",
       "        <tr>\n",
       "            <td>22  </td> <td>A Frenchman of St. Martin's</td>\n",
       "        </tr>\n",
       "    </tbody>\n",
       "</table>\n",
       "<p>... (20549 rows omitted)</p>"
      ],
      "text/plain": [
       "id   | label\n",
       "7    | --- Parker the elder\n",
       "9    | --- Thomas\n",
       "10   | --- Topcliffe\n",
       "12   | ...\n",
       "13   | 11 others\n",
       "15   | A Blakcadell\n",
       "16   | A Captain of Bouchain\n",
       "17   | A Catholic in Brussels\n",
       "19   | A Councillor of France\n",
       "22   | A Frenchman of St. Martin's\n",
       "... (20549 rows omitted)"
      ]
     },
     "execution_count": 116,
     "metadata": {},
     "output_type": "execute_result"
    }
   ],
   "source": [
    "ec_table = Table().from_df(ec_df)\n",
    "ec_table_relabeled = ec_table.relabel('3', 'id').relabel('(Monseigneur)', 'label')\n",
    "ec_table_relabeled"
   ]
  },
  {
   "cell_type": "code",
   "execution_count": 144,
   "id": "4bf05be3-f8a2-4c8f-a8bf-04a7db2ddac5",
   "metadata": {},
   "outputs": [
    {
     "data": {
      "text/html": [
       "<table border=\"1\" class=\"dataframe\">\n",
       "    <thead>\n",
       "        <tr>\n",
       "            <th>#SENDER_ID</th> <th>RECIPIENT_ID</th>\n",
       "        </tr>\n",
       "    </thead>\n",
       "    <tbody>\n",
       "        <tr>\n",
       "            <td>7         </td> <td>32642       </td>\n",
       "        </tr>\n",
       "        <tr>\n",
       "            <td>9         </td> <td>33559       </td>\n",
       "        </tr>\n",
       "        <tr>\n",
       "            <td>10        </td> <td>30478       </td>\n",
       "        </tr>\n",
       "        <tr>\n",
       "            <td>12        </td> <td>28530       </td>\n",
       "        </tr>\n",
       "        <tr>\n",
       "            <td>13        </td> <td>24566       </td>\n",
       "        </tr>\n",
       "        <tr>\n",
       "            <td>15        </td> <td>29809       </td>\n",
       "        </tr>\n",
       "        <tr>\n",
       "            <td>16        </td> <td>24470       </td>\n",
       "        </tr>\n",
       "        <tr>\n",
       "            <td>17        </td> <td>12255       </td>\n",
       "        </tr>\n",
       "        <tr>\n",
       "            <td>22        </td> <td>30478       </td>\n",
       "        </tr>\n",
       "        <tr>\n",
       "            <td>25        </td> <td>24566       </td>\n",
       "        </tr>\n",
       "    </tbody>\n",
       "</table>\n",
       "<p>... (40105 rows omitted)</p>"
      ],
      "text/plain": [
       "#SENDER_ID | RECIPIENT_ID\n",
       "7          | 32642\n",
       "9          | 33559\n",
       "10         | 30478\n",
       "12         | 28530\n",
       "13         | 24566\n",
       "15         | 29809\n",
       "16         | 24470\n",
       "17         | 12255\n",
       "22         | 30478\n",
       "25         | 24566\n",
       "... (40105 rows omitted)"
      ]
     },
     "execution_count": 144,
     "metadata": {},
     "output_type": "execute_result"
    }
   ],
   "source": [
    "raw_data_table = Table().from_df(raw_data_agg)\n",
    "raw_data_trimmed = raw_data_table.select('#SENDER_ID', 'RECIPIENT_ID')\n",
    "raw_data_trimmed"
   ]
  },
  {
   "cell_type": "code",
   "execution_count": 145,
   "id": "8e4e6e55-86ab-461d-8c1d-72fe1bf05230",
   "metadata": {},
   "outputs": [
    {
     "data": {
      "text/html": [
       "<table border=\"1\" class=\"dataframe\">\n",
       "    <thead>\n",
       "        <tr>\n",
       "            <th>RECIPIENT_ID</th>\n",
       "        </tr>\n",
       "    </thead>\n",
       "    <tbody>\n",
       "        <tr>\n",
       "            <td>32642       </td>\n",
       "        </tr>\n",
       "        <tr>\n",
       "            <td>33559       </td>\n",
       "        </tr>\n",
       "        <tr>\n",
       "            <td>30478       </td>\n",
       "        </tr>\n",
       "        <tr>\n",
       "            <td>28530       </td>\n",
       "        </tr>\n",
       "        <tr>\n",
       "            <td>24566       </td>\n",
       "        </tr>\n",
       "        <tr>\n",
       "            <td>29809       </td>\n",
       "        </tr>\n",
       "        <tr>\n",
       "            <td>24470       </td>\n",
       "        </tr>\n",
       "        <tr>\n",
       "            <td>12255       </td>\n",
       "        </tr>\n",
       "        <tr>\n",
       "            <td>30478       </td>\n",
       "        </tr>\n",
       "        <tr>\n",
       "            <td>24566       </td>\n",
       "        </tr>\n",
       "    </tbody>\n",
       "</table>\n",
       "<p>... (40105 rows omitted)</p>"
      ],
      "text/plain": [
       "RECIPIENT_ID\n",
       "32642\n",
       "33559\n",
       "30478\n",
       "28530\n",
       "24566\n",
       "29809\n",
       "24470\n",
       "12255\n",
       "30478\n",
       "24566\n",
       "... (40105 rows omitted)"
      ]
     },
     "execution_count": 145,
     "metadata": {},
     "output_type": "execute_result"
    }
   ],
   "source": [
    "raw_data_in_degree = raw_data_trimmed.select('RECIPIENT_ID')\n",
    "raw_data_in_degree"
   ]
  },
  {
   "cell_type": "code",
   "execution_count": 146,
   "id": "bf173f7e-2646-44d9-972b-3433c890b94f",
   "metadata": {},
   "outputs": [
    {
     "data": {
      "text/html": [
       "<table border=\"1\" class=\"dataframe\">\n",
       "    <thead>\n",
       "        <tr>\n",
       "            <th>RECIPIENT_ID</th> <th>count</th>\n",
       "        </tr>\n",
       "    </thead>\n",
       "    <tbody>\n",
       "        <tr>\n",
       "            <td>30478       </td> <td>3983 </td>\n",
       "        </tr>\n",
       "        <tr>\n",
       "            <td>29809       </td> <td>2330 </td>\n",
       "        </tr>\n",
       "        <tr>\n",
       "            <td>32545       </td> <td>1960 </td>\n",
       "        </tr>\n",
       "        <tr>\n",
       "            <td>24566       </td> <td>1926 </td>\n",
       "        </tr>\n",
       "        <tr>\n",
       "            <td>28530       </td> <td>1516 </td>\n",
       "        </tr>\n",
       "        <tr>\n",
       "            <td>24658       </td> <td>1437 </td>\n",
       "        </tr>\n",
       "        <tr>\n",
       "            <td>11844       </td> <td>704  </td>\n",
       "        </tr>\n",
       "        <tr>\n",
       "            <td>3674        </td> <td>548  </td>\n",
       "        </tr>\n",
       "        <tr>\n",
       "            <td>26529       </td> <td>462  </td>\n",
       "        </tr>\n",
       "        <tr>\n",
       "            <td>1683        </td> <td>340  </td>\n",
       "        </tr>\n",
       "    </tbody>\n",
       "</table>\n",
       "<p>... (7333 rows omitted)</p>"
      ],
      "text/plain": [
       "RECIPIENT_ID | count\n",
       "30478        | 3983\n",
       "29809        | 2330\n",
       "32545        | 1960\n",
       "24566        | 1926\n",
       "28530        | 1516\n",
       "24658        | 1437\n",
       "11844        | 704\n",
       "3674         | 548\n",
       "26529        | 462\n",
       "1683         | 340\n",
       "... (7333 rows omitted)"
      ]
     },
     "execution_count": 146,
     "metadata": {},
     "output_type": "execute_result"
    }
   ],
   "source": [
    "raw_data_in_degree_grouped = raw_data_in_degree.group('RECIPIENT_ID').sort('count', descending=True)\n",
    "raw_data_in_degree_grouped"
   ]
  },
  {
   "cell_type": "code",
   "execution_count": 147,
   "id": "4fae536e-7d4e-4c28-b09b-d436b64b6950",
   "metadata": {},
   "outputs": [
    {
     "data": {
      "text/html": [
       "<table border=\"1\" class=\"dataframe\">\n",
       "    <thead>\n",
       "        <tr>\n",
       "            <th>RECIPIENT_ID</th> <th>count</th> <th>label</th>\n",
       "        </tr>\n",
       "    </thead>\n",
       "    <tbody>\n",
       "        <tr>\n",
       "            <td>30478       </td> <td>3983 </td> <td>Sir William Cecil, Lord Burghley   </td>\n",
       "        </tr>\n",
       "        <tr>\n",
       "            <td>29809       </td> <td>2330 </td> <td>Sir Robert Cecil, Earl of Salisbury</td>\n",
       "        </tr>\n",
       "        <tr>\n",
       "            <td>32545       </td> <td>1960 </td> <td>Thomas Cromwell, Earl of Essex     </td>\n",
       "        </tr>\n",
       "        <tr>\n",
       "            <td>24566       </td> <td>1926 </td> <td>Privy Council                      </td>\n",
       "        </tr>\n",
       "        <tr>\n",
       "            <td>28530       </td> <td>1516 </td> <td>Sir Francis Walsingham             </td>\n",
       "        </tr>\n",
       "        <tr>\n",
       "            <td>24658       </td> <td>1437 </td> <td>Queen Elizabeth I                  </td>\n",
       "        </tr>\n",
       "        <tr>\n",
       "            <td>11844       </td> <td>704  </td> <td>Henry VIII                         </td>\n",
       "        </tr>\n",
       "        <tr>\n",
       "            <td>3674        </td> <td>548  </td> <td>Cardinal Thomas Wolsey             </td>\n",
       "        </tr>\n",
       "        <tr>\n",
       "            <td>26529       </td> <td>462  </td> <td>Robert Devereux, Earl of Essex     </td>\n",
       "        </tr>\n",
       "        <tr>\n",
       "            <td>1683        </td> <td>340  </td> <td>Arthur Plantagenet, Lord Lisle     </td>\n",
       "        </tr>\n",
       "    </tbody>\n",
       "</table>\n",
       "<p>... (7332 rows omitted)</p>"
      ],
      "text/plain": [
       "RECIPIENT_ID | count | label\n",
       "30478        | 3983  | Sir William Cecil, Lord Burghley\n",
       "29809        | 2330  | Sir Robert Cecil, Earl of Salisbury\n",
       "32545        | 1960  | Thomas Cromwell, Earl of Essex\n",
       "24566        | 1926  | Privy Council\n",
       "28530        | 1516  | Sir Francis Walsingham\n",
       "24658        | 1437  | Queen Elizabeth I\n",
       "11844        | 704   | Henry VIII\n",
       "3674         | 548   | Cardinal Thomas Wolsey\n",
       "26529        | 462   | Robert Devereux, Earl of Essex\n",
       "1683         | 340   | Arthur Plantagenet, Lord Lisle\n",
       "... (7332 rows omitted)"
      ]
     },
     "execution_count": 147,
     "metadata": {},
     "output_type": "execute_result"
    }
   ],
   "source": [
    "final_joined_in_degree = raw_data_in_degree_grouped.join('RECIPIENT_ID', ec_table_relabeled, 'id')\n",
    "final_joined_in_degree.sort('count', descending = True)"
   ]
  },
  {
   "cell_type": "code",
   "execution_count": 148,
   "id": "91e89161-3893-4124-8a80-05e73c1e2ca4",
   "metadata": {},
   "outputs": [
    {
     "data": {
      "text/plain": [
       "704"
      ]
     },
     "execution_count": 148,
     "metadata": {},
     "output_type": "execute_result"
    }
   ],
   "source": [
    "final_joined_in_degree.where('label', 'Henry VIII').column('count')[0]"
   ]
  },
  {
   "cell_type": "code",
   "execution_count": 149,
   "id": "7ebf85d8-41fe-4ec8-974e-51deb45f72c0",
   "metadata": {},
   "outputs": [
    {
     "name": "stdout",
     "output_type": "stream",
     "text": [
      "Henry, Katharine, Thomas, Emery, Desiderius\n",
      "704\n",
      "22\n",
      "1960\n",
      "[]\n",
      "39\n"
     ]
    }
   ],
   "source": [
    "print('Henry, Katharine, Thomas, Emery, Desiderius')\n",
    "# Henry VIII\n",
    "print(final_joined_in_degree.where('label', 'Henry VIII').column('count')[0])\n",
    "# Katharine of Arragon\n",
    "print(final_joined_in_degree.where('label', 'Katharine of Arragon').column('count')[0])\n",
    "# Thomas Cromwell, Earl of Essex\n",
    "print(final_joined_in_degree.where('label', 'Thomas Cromwell, Earl of Essex').column('count')[0])\n",
    "# Emery Molyneux\n",
    "print(final_joined_in_degree.where('label', 'Emery Molyneux').column('count'))\n",
    "# Desiderius Erasmus\n",
    "print(final_joined_in_degree.where('label', 'Desiderius Erasmus').column('count')[0])"
   ]
  },
  {
   "cell_type": "code",
   "execution_count": 150,
   "id": "295f6d65-0945-4483-b822-1fdf32539321",
   "metadata": {},
   "outputs": [
    {
     "data": {
      "text/html": [
       "<table border=\"1\" class=\"dataframe\">\n",
       "    <thead>\n",
       "        <tr>\n",
       "            <th>#SENDER_ID</th>\n",
       "        </tr>\n",
       "    </thead>\n",
       "    <tbody>\n",
       "        <tr>\n",
       "            <td>7         </td>\n",
       "        </tr>\n",
       "        <tr>\n",
       "            <td>9         </td>\n",
       "        </tr>\n",
       "        <tr>\n",
       "            <td>10        </td>\n",
       "        </tr>\n",
       "        <tr>\n",
       "            <td>12        </td>\n",
       "        </tr>\n",
       "        <tr>\n",
       "            <td>13        </td>\n",
       "        </tr>\n",
       "        <tr>\n",
       "            <td>15        </td>\n",
       "        </tr>\n",
       "        <tr>\n",
       "            <td>16        </td>\n",
       "        </tr>\n",
       "        <tr>\n",
       "            <td>17        </td>\n",
       "        </tr>\n",
       "        <tr>\n",
       "            <td>22        </td>\n",
       "        </tr>\n",
       "        <tr>\n",
       "            <td>25        </td>\n",
       "        </tr>\n",
       "    </tbody>\n",
       "</table>\n",
       "<p>... (40105 rows omitted)</p>"
      ],
      "text/plain": [
       "#SENDER_ID\n",
       "7\n",
       "9\n",
       "10\n",
       "12\n",
       "13\n",
       "15\n",
       "16\n",
       "17\n",
       "22\n",
       "25\n",
       "... (40105 rows omitted)"
      ]
     },
     "execution_count": 150,
     "metadata": {},
     "output_type": "execute_result"
    }
   ],
   "source": [
    "raw_data_out_degree = raw_data_trimmed.select('#SENDER_ID')\n",
    "raw_data_out_degree"
   ]
  },
  {
   "cell_type": "code",
   "execution_count": 151,
   "id": "b4ccf3b0-379e-487a-ac1a-6233f94c58a6",
   "metadata": {},
   "outputs": [
    {
     "data": {
      "text/html": [
       "<table border=\"1\" class=\"dataframe\">\n",
       "    <thead>\n",
       "        <tr>\n",
       "            <th>#SENDER_ID</th> <th>count</th>\n",
       "        </tr>\n",
       "    </thead>\n",
       "    <tbody>\n",
       "        <tr>\n",
       "            <td>24658     </td> <td>856  </td>\n",
       "        </tr>\n",
       "        <tr>\n",
       "            <td>24566     </td> <td>645  </td>\n",
       "        </tr>\n",
       "        <tr>\n",
       "            <td>11844     </td> <td>430  </td>\n",
       "        </tr>\n",
       "        <tr>\n",
       "            <td>30478     </td> <td>420  </td>\n",
       "        </tr>\n",
       "        <tr>\n",
       "            <td>29809     </td> <td>227  </td>\n",
       "        </tr>\n",
       "        <tr>\n",
       "            <td>28530     </td> <td>196  </td>\n",
       "        </tr>\n",
       "        <tr>\n",
       "            <td>24679     </td> <td>185  </td>\n",
       "        </tr>\n",
       "        <tr>\n",
       "            <td>32545     </td> <td>177  </td>\n",
       "        </tr>\n",
       "        <tr>\n",
       "            <td>3674      </td> <td>124  </td>\n",
       "        </tr>\n",
       "        <tr>\n",
       "            <td>12113     </td> <td>107  </td>\n",
       "        </tr>\n",
       "    </tbody>\n",
       "</table>\n",
       "<p>... (16655 rows omitted)</p>"
      ],
      "text/plain": [
       "#SENDER_ID | count\n",
       "24658      | 856\n",
       "24566      | 645\n",
       "11844      | 430\n",
       "30478      | 420\n",
       "29809      | 227\n",
       "28530      | 196\n",
       "24679      | 185\n",
       "32545      | 177\n",
       "3674       | 124\n",
       "12113      | 107\n",
       "... (16655 rows omitted)"
      ]
     },
     "execution_count": 151,
     "metadata": {},
     "output_type": "execute_result"
    }
   ],
   "source": [
    "raw_data_out_degree_grouped = raw_data_out_degree.group('#SENDER_ID').sort('count', descending=True)\n",
    "raw_data_out_degree_grouped"
   ]
  },
  {
   "cell_type": "code",
   "execution_count": 152,
   "id": "0eb58d8e-300b-4b77-af32-b2167d1f26f0",
   "metadata": {},
   "outputs": [
    {
     "data": {
      "text/html": [
       "<table border=\"1\" class=\"dataframe\">\n",
       "    <thead>\n",
       "        <tr>\n",
       "            <th>#SENDER_ID</th> <th>count</th> <th>label</th>\n",
       "        </tr>\n",
       "    </thead>\n",
       "    <tbody>\n",
       "        <tr>\n",
       "            <td>24658     </td> <td>856  </td> <td>Queen Elizabeth I                                      </td>\n",
       "        </tr>\n",
       "        <tr>\n",
       "            <td>24566     </td> <td>645  </td> <td>Privy Council                                          </td>\n",
       "        </tr>\n",
       "        <tr>\n",
       "            <td>11844     </td> <td>430  </td> <td>Henry VIII                                             </td>\n",
       "        </tr>\n",
       "        <tr>\n",
       "            <td>30478     </td> <td>420  </td> <td>Sir William Cecil, Lord Burghley                       </td>\n",
       "        </tr>\n",
       "        <tr>\n",
       "            <td>29809     </td> <td>227  </td> <td>Sir Robert Cecil, Earl of Salisbury                    </td>\n",
       "        </tr>\n",
       "        <tr>\n",
       "            <td>28530     </td> <td>196  </td> <td>Sir Francis Walsingham                                 </td>\n",
       "        </tr>\n",
       "        <tr>\n",
       "            <td>24679     </td> <td>185  </td> <td>Queen Mary I                                           </td>\n",
       "        </tr>\n",
       "        <tr>\n",
       "            <td>32545     </td> <td>177  </td> <td>Thomas Cromwell, Earl of Essex                         </td>\n",
       "        </tr>\n",
       "        <tr>\n",
       "            <td>3674      </td> <td>124  </td> <td>Cardinal Thomas Wolsey                                 </td>\n",
       "        </tr>\n",
       "        <tr>\n",
       "            <td>12113     </td> <td>107  </td> <td>Holy Roman Emperor Charles V, (King Charles I of Spain)</td>\n",
       "        </tr>\n",
       "    </tbody>\n",
       "</table>\n",
       "<p>... (16655 rows omitted)</p>"
      ],
      "text/plain": [
       "#SENDER_ID | count | label\n",
       "24658      | 856   | Queen Elizabeth I\n",
       "24566      | 645   | Privy Council\n",
       "11844      | 430   | Henry VIII\n",
       "30478      | 420   | Sir William Cecil, Lord Burghley\n",
       "29809      | 227   | Sir Robert Cecil, Earl of Salisbury\n",
       "28530      | 196   | Sir Francis Walsingham\n",
       "24679      | 185   | Queen Mary I\n",
       "32545      | 177   | Thomas Cromwell, Earl of Essex\n",
       "3674       | 124   | Cardinal Thomas Wolsey\n",
       "12113      | 107   | Holy Roman Emperor Charles V, (King Charles I of Spain)\n",
       "... (16655 rows omitted)"
      ]
     },
     "execution_count": 152,
     "metadata": {},
     "output_type": "execute_result"
    }
   ],
   "source": [
    "final_joined_out_degree = raw_data_out_degree_grouped.join('#SENDER_ID', ec_table_relabeled, 'id')\n",
    "final_joined_out_degree.sort('count', descending=True)"
   ]
  },
  {
   "cell_type": "code",
   "execution_count": 153,
   "id": "e65e82e4-a607-4f33-bcd4-4137cee70b93",
   "metadata": {},
   "outputs": [
    {
     "data": {
      "text/plain": [
       "430"
      ]
     },
     "execution_count": 153,
     "metadata": {},
     "output_type": "execute_result"
    }
   ],
   "source": [
    "final_joined_out_degree.where('label', 'Henry VIII').column('count')[0]"
   ]
  },
  {
   "cell_type": "code",
   "execution_count": 154,
   "id": "3c320d4f-3018-416f-9874-e1b9981998cd",
   "metadata": {},
   "outputs": [
    {
     "name": "stdout",
     "output_type": "stream",
     "text": [
      "Henry, Katharine, Thomas, Emery, Desiderius\n",
      "430\n",
      "22\n",
      "177\n",
      "2\n",
      "96\n"
     ]
    }
   ],
   "source": [
    "print('Henry, Katharine, Thomas, Emery, Desiderius')\n",
    "print(final_joined_out_degree.where('label', 'Henry VIII').column('count')[0])\n",
    "print(final_joined_out_degree.where('label', 'Katharine of Arragon').column('count')[0])\n",
    "print(final_joined_out_degree.where('label', 'Thomas Cromwell, Earl of Essex').column('count')[0])\n",
    "print(final_joined_out_degree.where('label', 'Emery Molyneux').column('count')[0])\n",
    "print(final_joined_out_degree.where('label', 'Desiderius Erasmus').column('count')[0])"
   ]
  },
  {
   "cell_type": "code",
   "execution_count": 128,
   "id": "98766a11-fe6b-4b26-a937-6caa4b33662c",
   "metadata": {},
   "outputs": [
    {
     "name": "stdout",
     "output_type": "stream",
     "text": [
      "Henry, Katharine, Thomas, Emery, Desiderius\n",
      "1505\n",
      "53\n",
      "402\n",
      "2\n",
      "293\n"
     ]
    }
   ],
   "source": [
    "print('Henry, Katharine, Thomas, Emery, Desiderius')\n",
    "# Henry VIII\n",
    "print(final_joined_out_degree.where('label', 'Henry VIII').column('count')[0])\n",
    "# Katharine of Arragon\n",
    "print(final_joined_out_degree.where('label', 'Katharine of Arragon').column('count')[0])\n",
    "# Thomas Cromwell, Earl of Essex\n",
    "print(final_joined_out_degree.where('label', 'Thomas Cromwell, Earl of Essex').column('count')[0])\n",
    "# Emery Molyneux\n",
    "print(final_joined_out_degree.where('label', 'Emery Molyneux').column('count')[0])\n",
    "# Desiderius Erasmus\n",
    "print(final_joined_out_degree.where('label', 'Desiderius Erasmus').column('count')[0])"
   ]
  },
  {
   "cell_type": "code",
   "execution_count": 129,
   "id": "74d98189-2505-4d9d-a54e-780f26441150",
   "metadata": {},
   "outputs": [],
   "source": [
    "def create_edge_list(df, input_col, output_col):\n",
    "    \"\"\"Creates an edge list from input and output columns in a DataFrame.\"\"\"\n",
    "    return df[[input_col, output_col]].values.tolist()\n",
    "\n",
    "# Example usage:\n",
    "edge_list = create_edge_list(tudor_df, '#SENDER_ID', 'RECIPIENT_ID')\n",
    "#print(edge_list)"
   ]
  },
  {
   "cell_type": "code",
   "execution_count": 130,
   "id": "275f2d07-e238-4bb9-b14b-67234212fdce",
   "metadata": {},
   "outputs": [],
   "source": [
    "G = nx.Graph(edge_list)"
   ]
  },
  {
   "cell_type": "code",
   "execution_count": 131,
   "id": "c15ad2aa-5c26-4a75-9be5-51aeb91e2df5",
   "metadata": {},
   "outputs": [
    {
     "data": {
      "text/plain": [
       "0.006184422848047197"
      ]
     },
     "execution_count": 131,
     "metadata": {},
     "output_type": "execute_result"
    }
   ],
   "source": [
    "nx.clustering(G, 11844)"
   ]
  },
  {
   "cell_type": "code",
   "execution_count": 132,
   "id": "6cfbe8fd-316d-41c6-a923-721b62849266",
   "metadata": {},
   "outputs": [
    {
     "data": {
      "text/plain": [
       "0.10661268556005399"
      ]
     },
     "execution_count": 132,
     "metadata": {},
     "output_type": "execute_result"
    }
   ],
   "source": [
    "nx.clustering(G, 16721)"
   ]
  },
  {
   "cell_type": "code",
   "execution_count": 133,
   "id": "9827a406-034c-442e-a365-845b033b16aa",
   "metadata": {},
   "outputs": [
    {
     "data": {
      "text/plain": [
       "0.0011841127076401838"
      ]
     },
     "execution_count": 133,
     "metadata": {},
     "output_type": "execute_result"
    }
   ],
   "source": [
    "nx.clustering(G, 32545)"
   ]
  },
  {
   "cell_type": "code",
   "execution_count": 134,
   "id": "d38b71ad-822d-4225-8784-6ab64a8cd7bb",
   "metadata": {},
   "outputs": [
    {
     "data": {
      "text/plain": [
       "1.0"
      ]
     },
     "execution_count": 134,
     "metadata": {},
     "output_type": "execute_result"
    }
   ],
   "source": [
    "nx.clustering(G, 8417)"
   ]
  },
  {
   "cell_type": "code",
   "execution_count": 135,
   "id": "b681a7ef-59b1-49b4-a271-9564a357003e",
   "metadata": {},
   "outputs": [
    {
     "data": {
      "text/plain": [
       "0.02503967554223241"
      ]
     },
     "execution_count": 135,
     "metadata": {},
     "output_type": "execute_result"
    }
   ],
   "source": [
    "nx.clustering(G, 6113)"
   ]
  },
  {
   "cell_type": "code",
   "execution_count": 136,
   "id": "2ca8f60a-5fcd-4c65-8c51-d6a014021cd6",
   "metadata": {},
   "outputs": [],
   "source": [
    "eigen_cent = nx.eigenvector_centrality(G)"
   ]
  },
  {
   "cell_type": "code",
   "execution_count": 137,
   "id": "4db1dae4-fdc7-454d-aded-6f6a5e869b64",
   "metadata": {},
   "outputs": [
    {
     "data": {
      "text/plain": [
       "0.04153751662262397"
      ]
     },
     "execution_count": 137,
     "metadata": {},
     "output_type": "execute_result"
    }
   ],
   "source": [
    "eigen_cent.get(11844)"
   ]
  },
  {
   "cell_type": "code",
   "execution_count": 138,
   "id": "9c600c63-0295-4fd3-b522-285cf2e74f29",
   "metadata": {},
   "outputs": [
    {
     "data": {
      "text/plain": [
       "0.0026266482807409987"
      ]
     },
     "execution_count": 138,
     "metadata": {},
     "output_type": "execute_result"
    }
   ],
   "source": [
    "eigen_cent.get(16721)"
   ]
  },
  {
   "cell_type": "code",
   "execution_count": 139,
   "id": "c0efed8c-425a-4147-8942-d561b99c0943",
   "metadata": {},
   "outputs": [
    {
     "data": {
      "text/plain": [
       "0.050180677994212775"
      ]
     },
     "execution_count": 139,
     "metadata": {},
     "output_type": "execute_result"
    }
   ],
   "source": [
    "eigen_cent.get(32545)"
   ]
  },
  {
   "cell_type": "code",
   "execution_count": 140,
   "id": "c692a78f-cc35-4d56-8921-37c6295552d9",
   "metadata": {},
   "outputs": [
    {
     "data": {
      "text/plain": [
       "0.00900057048223011"
      ]
     },
     "execution_count": 140,
     "metadata": {},
     "output_type": "execute_result"
    }
   ],
   "source": [
    "eigen_cent.get(8417)"
   ]
  },
  {
   "cell_type": "code",
   "execution_count": 141,
   "id": "dc538b6c-ae52-4969-aa78-acd9d102b404",
   "metadata": {},
   "outputs": [
    {
     "data": {
      "text/plain": [
       "0.003254850080722831"
      ]
     },
     "execution_count": 141,
     "metadata": {},
     "output_type": "execute_result"
    }
   ],
   "source": [
    "eigen_cent.get(6113)"
   ]
  }
 ],
 "metadata": {
  "kernelspec": {
   "display_name": "Python 3 (ipykernel)",
   "language": "python",
   "name": "python3"
  },
  "language_info": {
   "codemirror_mode": {
    "name": "ipython",
    "version": 3
   },
   "file_extension": ".py",
   "mimetype": "text/x-python",
   "name": "python",
   "nbconvert_exporter": "python",
   "pygments_lexer": "ipython3",
   "version": "3.11.10"
  }
 },
 "nbformat": 4,
 "nbformat_minor": 5
}
